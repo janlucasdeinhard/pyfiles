{
 "cells": [
  {
   "attachments": {},
   "cell_type": "markdown",
   "metadata": {},
   "source": [
    "# SPARQL Endpoint Connector\n",
    "\n",
    "This workbook connects to the _DBpedia_ endpoint through SPARQL and is the attempt to create an output list of all wars in order by the time they were fought. The eventual goa is to also analyze the circumstances, social, economic, natural and otherwise, surrounding these events to build a predictive framework. "
   ]
  },
  {
   "cell_type": "code",
   "execution_count": 12,
   "metadata": {},
   "outputs": [
    {
     "name": "stdout",
     "output_type": "stream",
     "text": [
      "The autotime extension is already loaded. To reload it, use:\n",
      "  %reload_ext autotime\n",
      "time: 415 µs (started: 2023-02-12 22:57:31 +01:00)\n"
     ]
    }
   ],
   "source": [
    "# Imports\n",
    "import numpy as np\n",
    "from numpy import random as rnd\n",
    "from matplotlib import pyplot as plt\n",
    "import sys,os,time,datetime,warnings,math,itertools\n",
    "\n",
    "import pandas as pd\n",
    "\n",
    "from plotly import express as px\n",
    "\n",
    "from gastrodon import RemoteEndpoint,QName,ttl,URIRef,inline\n",
    "\n",
    "# Config\n",
    "%load_ext autotime\n",
    "sys.path.append('../..')"
   ]
  },
  {
   "cell_type": "code",
   "execution_count": 16,
   "metadata": {},
   "outputs": [
    {
     "name": "stdout",
     "output_type": "stream",
     "text": [
      "time: 700 µs (started: 2023-02-12 23:01:56 +01:00)\n"
     ]
    }
   ],
   "source": [
    "prefixes = inline('''\n",
    "    @prefix : <http://dbpedia.org/resource/> .\n",
    "    @prefix on: <http://dbpedia.org/ontology/> .\n",
    "    @prefix pr: <http://dbpedia.org/property/> .\n",
    "''').graph"
   ]
  },
  {
   "cell_type": "code",
   "execution_count": 17,
   "metadata": {},
   "outputs": [
    {
     "name": "stdout",
     "output_type": "stream",
     "text": [
      "time: 287 µs (started: 2023-02-12 23:01:57 +01:00)\n"
     ]
    }
   ],
   "source": [
    "endpoint = RemoteEndpoint(\n",
    "    'http://dbpedia.org/sparql/',\n",
    "    default_graph='http://dbpedia.org',\n",
    "    prefixes=prefixes,\n",
    "    base_uri='http://dbpedia.org/resources/'\n",
    ")"
   ]
  },
  {
   "cell_type": "code",
   "execution_count": 18,
   "metadata": {},
   "outputs": [
    {
     "name": "stdout",
     "output_type": "stream",
     "text": [
      "time: 12.1 s (started: 2023-02-12 23:02:41 +01:00)\n"
     ]
    }
   ],
   "source": [
    "count = endpoint.select('''\n",
    "    SELECT  (COUNT(*) AS ?count) {?s ?p ?o}\n",
    "''')"
   ]
  },
  {
   "cell_type": "code",
   "execution_count": 19,
   "metadata": {},
   "outputs": [
    {
     "data": {
      "text/html": [
       "<div>\n",
       "<style scoped>\n",
       "    .dataframe tbody tr th:only-of-type {\n",
       "        vertical-align: middle;\n",
       "    }\n",
       "\n",
       "    .dataframe tbody tr th {\n",
       "        vertical-align: top;\n",
       "    }\n",
       "\n",
       "    .dataframe thead th {\n",
       "        text-align: right;\n",
       "    }\n",
       "</style>\n",
       "<table border=\"1\" class=\"dataframe\">\n",
       "  <thead>\n",
       "    <tr style=\"text-align: right;\">\n",
       "      <th></th>\n",
       "      <th>count</th>\n",
       "    </tr>\n",
       "  </thead>\n",
       "  <tbody>\n",
       "    <tr>\n",
       "      <th>0</th>\n",
       "      <td>1141462733</td>\n",
       "    </tr>\n",
       "  </tbody>\n",
       "</table>\n",
       "</div>"
      ],
      "text/plain": [
       "        count\n",
       "0  1141462733"
      ]
     },
     "execution_count": 19,
     "metadata": {},
     "output_type": "execute_result"
    },
    {
     "name": "stdout",
     "output_type": "stream",
     "text": [
      "time: 9.12 ms (started: 2023-02-12 23:02:55 +01:00)\n"
     ]
    }
   ],
   "source": [
    "count"
   ]
  },
  {
   "cell_type": "code",
   "execution_count": 20,
   "metadata": {},
   "outputs": [
    {
     "name": "stdout",
     "output_type": "stream",
     "text": [
      "time: 32.1 s (started: 2023-02-12 23:31:57 +01:00)\n"
     ]
    }
   ],
   "source": [
    "predicates = endpoint.select('''\n",
    "    SELECT ?p (SUM(1) as ?count)\n",
    "    {?s ?p ?o .}\n",
    "    GROUP BY ?p\n",
    "    ORDER BY DESC(?count)\n",
    "''')"
   ]
  },
  {
   "cell_type": "code",
   "execution_count": 21,
   "metadata": {},
   "outputs": [
    {
     "data": {
      "text/html": [
       "<div>\n",
       "<style scoped>\n",
       "    .dataframe tbody tr th:only-of-type {\n",
       "        vertical-align: middle;\n",
       "    }\n",
       "\n",
       "    .dataframe tbody tr th {\n",
       "        vertical-align: top;\n",
       "    }\n",
       "\n",
       "    .dataframe thead th {\n",
       "        text-align: right;\n",
       "    }\n",
       "</style>\n",
       "<table border=\"1\" class=\"dataframe\">\n",
       "  <thead>\n",
       "    <tr style=\"text-align: right;\">\n",
       "      <th></th>\n",
       "      <th>count</th>\n",
       "    </tr>\n",
       "    <tr>\n",
       "      <th>p</th>\n",
       "      <th></th>\n",
       "    </tr>\n",
       "  </thead>\n",
       "  <tbody>\n",
       "    <tr>\n",
       "      <th>on:wikiPageWikiLink</th>\n",
       "      <td>254069466</td>\n",
       "    </tr>\n",
       "    <tr>\n",
       "      <th>rdf:type</th>\n",
       "      <td>146346566</td>\n",
       "    </tr>\n",
       "    <tr>\n",
       "      <th>rdfs:label</th>\n",
       "      <td>60428538</td>\n",
       "    </tr>\n",
       "    <tr>\n",
       "      <th>owl:sameAs</th>\n",
       "      <td>52572903</td>\n",
       "    </tr>\n",
       "    <tr>\n",
       "      <th>rdfs:comment</th>\n",
       "      <td>46587083</td>\n",
       "    </tr>\n",
       "    <tr>\n",
       "      <th>...</th>\n",
       "      <td>...</td>\n",
       "    </tr>\n",
       "    <tr>\n",
       "      <th>http://purl.org/dc/terms/title</th>\n",
       "      <td>1</td>\n",
       "    </tr>\n",
       "    <tr>\n",
       "      <th>http://purl.org/dc/terms/creator</th>\n",
       "      <td>1</td>\n",
       "    </tr>\n",
       "    <tr>\n",
       "      <th>pr:party8name</th>\n",
       "      <td>1</td>\n",
       "    </tr>\n",
       "    <tr>\n",
       "      <th>pr:rushLeader</th>\n",
       "      <td>1</td>\n",
       "    </tr>\n",
       "    <tr>\n",
       "      <th>pr:row40To</th>\n",
       "      <td>1</td>\n",
       "    </tr>\n",
       "  </tbody>\n",
       "</table>\n",
       "<p>930 rows × 1 columns</p>\n",
       "</div>"
      ],
      "text/plain": [
       "                                      count\n",
       "p                                          \n",
       "on:wikiPageWikiLink               254069466\n",
       "rdf:type                          146346566\n",
       "rdfs:label                         60428538\n",
       "owl:sameAs                         52572903\n",
       "rdfs:comment                       46587083\n",
       "...                                     ...\n",
       "http://purl.org/dc/terms/title            1\n",
       "http://purl.org/dc/terms/creator          1\n",
       "pr:party8name                             1\n",
       "pr:rushLeader                             1\n",
       "pr:row40To                                1\n",
       "\n",
       "[930 rows x 1 columns]"
      ]
     },
     "execution_count": 21,
     "metadata": {},
     "output_type": "execute_result"
    },
    {
     "name": "stdout",
     "output_type": "stream",
     "text": [
      "time: 6.76 ms (started: 2023-02-12 23:32:34 +01:00)\n"
     ]
    }
   ],
   "source": [
    "predicates"
   ]
  },
  {
   "cell_type": "code",
   "execution_count": 28,
   "metadata": {},
   "outputs": [
    {
     "name": "stdout",
     "output_type": "stream",
     "text": [
      "time: 877 ms (started: 2023-02-12 23:37:30 +01:00)\n"
     ]
    }
   ],
   "source": [
    "subjects = endpoint.select('''\n",
    "    SELECT ?s (SUM(1) as ?count)\n",
    "    {?s ?p ?o .}\n",
    "    GROUP BY ?s\n",
    "    ORDER BY DESC(?count)\n",
    "''').reset_index()"
   ]
  },
  {
   "cell_type": "code",
   "execution_count": 48,
   "metadata": {},
   "outputs": [
    {
     "name": "stdout",
     "output_type": "stream",
     "text": [
      "time: 34.7 s (started: 2023-02-12 23:49:35 +01:00)\n"
     ]
    }
   ],
   "source": [
    "wars = endpoint.select('''\n",
    "    SELECT ?s ?p ?o\n",
    "    WHERE {\n",
    "        ?s ?p ?o .\n",
    "        FILTER regex(?s,'^.*War.*$')\n",
    "    }\n",
    "    GROUP BY ?s\n",
    "    ORDER BY DESC(?count)\n",
    "''').reset_index()"
   ]
  },
  {
   "cell_type": "code",
   "execution_count": 50,
   "metadata": {},
   "outputs": [
    {
     "data": {
      "text/plain": [
       "array(['rdf:type'], dtype=object)"
      ]
     },
     "execution_count": 50,
     "metadata": {},
     "output_type": "execute_result"
    },
    {
     "name": "stdout",
     "output_type": "stream",
     "text": [
      "time: 4.67 ms (started: 2023-02-12 23:51:45 +01:00)\n"
     ]
    }
   ],
   "source": [
    "wars['p'].unique()"
   ]
  },
  {
   "cell_type": "code",
   "execution_count": null,
   "metadata": {},
   "outputs": [],
   "source": []
  }
 ],
 "metadata": {
  "kernelspec": {
   "display_name": "Python 3",
   "language": "python",
   "name": "python3"
  },
  "language_info": {
   "codemirror_mode": {
    "name": "ipython",
    "version": 3
   },
   "file_extension": ".py",
   "mimetype": "text/x-python",
   "name": "python",
   "nbconvert_exporter": "python",
   "pygments_lexer": "ipython3",
   "version": "3.10.6"
  },
  "vscode": {
   "interpreter": {
    "hash": "b0fa6594d8f4cbf19f97940f81e996739fb7646882a419484c72d19e05852a7e"
   }
  }
 },
 "nbformat": 4,
 "nbformat_minor": 2
}
