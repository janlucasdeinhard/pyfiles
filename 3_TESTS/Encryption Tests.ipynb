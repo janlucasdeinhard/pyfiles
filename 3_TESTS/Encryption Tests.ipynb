{
 "cells": [
  {
   "cell_type": "code",
   "execution_count": 6,
   "metadata": {},
   "outputs": [],
   "source": [
    "def encrypt_text(text):\n",
    "    words = text.split()\n",
    "    result = []\n",
    "    for i, word in enumerate(words):\n",
    "        encrypted_word = ''\n",
    "        for j, letter in enumerate(word):\n",
    "            shift = j + 1\n",
    "            encrypted_letter = chr((ord(letter) - 97 + shift) % 26 + 97)\n",
    "            encrypted_word += encrypted_letter\n",
    "        result.append(encrypted_word)\n",
    "    return ' '.join(result)"
   ]
  },
  {
   "cell_type": "code",
   "execution_count": 9,
   "metadata": {},
   "outputs": [
    {
     "data": {
      "text/plain": [
       "'zqx bth jpfswxlkc'"
      ]
     },
     "execution_count": 9,
     "metadata": {},
     "output_type": "execute_result"
    }
   ],
   "source": [
    "encrypt_text('you are incorrect')"
   ]
  },
  {
   "cell_type": "code",
   "execution_count": 5,
   "metadata": {},
   "outputs": [
    {
     "name": "stdout",
     "output_type": "stream",
     "text": [
      "n\n",
      "a\n",
      "m\n",
      "e\n"
     ]
    }
   ],
   "source": [
    "for j,letter in enumerate(\"name\"):\n",
    "    print(letter)"
   ]
  },
  {
   "cell_type": "code",
   "execution_count": null,
   "metadata": {},
   "outputs": [],
   "source": [
    "jpfswxlkc\n",
    "incorrect\n",
    "learning"
   ]
  },
  {
   "cell_type": "code",
   "execution_count": 10,
   "metadata": {},
   "outputs": [
    {
     "data": {
      "text/plain": [
       "'boddj'"
      ]
     },
     "execution_count": 10,
     "metadata": {},
     "output_type": "execute_result"
    }
   ],
   "source": [
    "encrypt_text('amaze')"
   ]
  },
  {
   "cell_type": "code",
   "execution_count": 11,
   "metadata": {},
   "outputs": [],
   "source": [
    "def encrypt_text_incorrectly(text):\n",
    "    words = text.split()\n",
    "    result = []\n",
    "    for i, word in enumerate(words):\n",
    "        encrypted_word = ''\n",
    "        for j, letter in enumerate(word):\n",
    "            shift = j + i + 1\n",
    "            encrypted_letter = chr((ord(letter) - 97 + shift) % 26 + 97)\n",
    "            encrypted_word += encrypted_letter\n",
    "        result.append(encrypted_word)\n",
    "    return ' '.join(result)"
   ]
  },
  {
   "cell_type": "code",
   "execution_count": 12,
   "metadata": {},
   "outputs": [
    {
     "data": {
      "text/plain": [
       "'boddj'"
      ]
     },
     "execution_count": 12,
     "metadata": {},
     "output_type": "execute_result"
    }
   ],
   "source": [
    "encrypt_text_incorrectly('amaze')"
   ]
  },
  {
   "cell_type": "code",
   "execution_count": 15,
   "metadata": {},
   "outputs": [],
   "source": [
    "def decrypt_text(text):\n",
    "    words = text.split()\n",
    "    result = []\n",
    "    for i, word in enumerate(words):\n",
    "        decrypted_word = ''\n",
    "        for j, letter in enumerate(word):\n",
    "            shift = j + 1\n",
    "            decrypted_letter = chr((ord(letter) - 97 - shift) % 26 + 97)\n",
    "            decrypted_word += decrypted_letter\n",
    "        result.append(decrypted_word)\n",
    "    return ' '.join(result)"
   ]
  },
  {
   "cell_type": "code",
   "execution_count": 16,
   "metadata": {},
   "outputs": [
    {
     "data": {
      "text/plain": [
       "'you are incorrect'"
      ]
     },
     "execution_count": 16,
     "metadata": {},
     "output_type": "execute_result"
    }
   ],
   "source": [
    "decrypt_text('zqx bth jpfswxlkc')"
   ]
  },
  {
   "cell_type": "code",
   "execution_count": 17,
   "metadata": {},
   "outputs": [],
   "source": [
    "def encrypt_word_3(word):\n",
    "    encrypted_word = \"\"\n",
    "    for i in range(len(word)):\n",
    "        shift = i+1\n",
    "        encrypted_word += chr((ord(word[i]) - 97 + shift) % 26 + 97)\n",
    "    return encrypted_word"
   ]
  },
  {
   "cell_type": "code",
   "execution_count": 19,
   "metadata": {},
   "outputs": [
    {
     "data": {
      "text/plain": [
       "'cwjwbgyu'"
      ]
     },
     "execution_count": 19,
     "metadata": {},
     "output_type": "execute_result"
    }
   ],
   "source": [
    "encrypt_word_3('bugswarm')"
   ]
  },
  {
   "cell_type": "code",
   "execution_count": null,
   "metadata": {},
   "outputs": [],
   "source": [
    "b u g s w a r m\n",
    "1 2 3 4 5 6 7 8"
   ]
  },
  {
   "cell_type": "code",
   "execution_count": 20,
   "metadata": {},
   "outputs": [],
   "source": [
    "def decrypt_word(encrypted_word):\n",
    "    decrypted_word = \"\"\n",
    "    for i in range(len(encrypted_word)):\n",
    "        shift = i+1\n",
    "        decrypted_word += chr((ord(encrypted_word[i]) - 97 - shift) % 26 + 97)\n",
    "    return decrypted_word"
   ]
  },
  {
   "cell_type": "code",
   "execution_count": 21,
   "metadata": {},
   "outputs": [
    {
     "data": {
      "text/plain": [
       "'bugswarm'"
      ]
     },
     "execution_count": 21,
     "metadata": {},
     "output_type": "execute_result"
    }
   ],
   "source": [
    "decrypt_word('cwjwbgyu')"
   ]
  },
  {
   "cell_type": "code",
   "execution_count": null,
   "metadata": {},
   "outputs": [],
   "source": []
  }
 ],
 "metadata": {
  "kernelspec": {
   "display_name": "Python 3",
   "language": "python",
   "name": "python3"
  },
  "language_info": {
   "codemirror_mode": {
    "name": "ipython",
    "version": 3
   },
   "file_extension": ".py",
   "mimetype": "text/x-python",
   "name": "python",
   "nbconvert_exporter": "python",
   "pygments_lexer": "ipython3",
   "version": "3.10.6"
  },
  "orig_nbformat": 4
 },
 "nbformat": 4,
 "nbformat_minor": 2
}
