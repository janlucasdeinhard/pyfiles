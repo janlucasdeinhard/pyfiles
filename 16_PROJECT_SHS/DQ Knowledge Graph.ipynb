{
 "cells": [
  {
   "cell_type": "code",
   "execution_count": 1,
   "metadata": {},
   "outputs": [
    {
     "name": "stderr",
     "output_type": "stream",
     "text": [
      "/opt/homebrew/lib/python3.10/site-packages/tqdm/auto.py:22: TqdmWarning: IProgress not found. Please update jupyter and ipywidgets. See https://ipywidgets.readthedocs.io/en/stable/user_install.html\n",
      "  from .autonotebook import tqdm as notebook_tqdm\n"
     ]
    }
   ],
   "source": [
    "import numpy as np\n",
    "from numpy import random as rnd\n",
    "from matplotlib import pyplot as plt \n",
    "import os,warnings,datetime,time,math,itertools\n",
    "\n",
    "import pandas as pd\n",
    "\n",
    "import torch\n",
    "import torch.nn as nn \n",
    "import torch.nn.functional as F \n",
    "\n",
    "import plotly.express as px\n",
    "import graphdb as gdb\n",
    "\n",
    "from SPARQLWrapper import SPARQLWrapper,JSON"
   ]
  },
  {
   "attachments": {},
   "cell_type": "markdown",
   "metadata": {},
   "source": [
    "# Connect to Wikidata\n",
    "\n",
    "A first attempt to connect to Wikidata and fire off a simple query"
   ]
  },
  {
   "cell_type": "code",
   "execution_count": 2,
   "metadata": {},
   "outputs": [],
   "source": [
    "sparql = SPARQLWrapper('https://query.wikidata.org/sparql')"
   ]
  },
  {
   "cell_type": "code",
   "execution_count": 3,
   "metadata": {},
   "outputs": [],
   "source": [
    "sparql.setQuery(\n",
    "'''\n",
    "SELECT ?item ?itemLabel \n",
    "WHERE \n",
    "{\n",
    "  ?item wdt:P31 wd:Q146 .\n",
    "  SERVICE wikibase:label { bd:serviceParam wikibase:language \"[AUTO_LANGUAGE],en\". } \n",
    "}\n",
    "'''\n",
    ")\n",
    "sparql.setReturnFormat(JSON)\n"
   ]
  },
  {
   "cell_type": "code",
   "execution_count": 4,
   "metadata": {},
   "outputs": [],
   "source": [
    "results = sparql.query().convert()"
   ]
  },
  {
   "cell_type": "code",
   "execution_count": 5,
   "metadata": {},
   "outputs": [
    {
     "name": "stderr",
     "output_type": "stream",
     "text": [
      "/var/folders/3l/h5txsrx128z_kjh049xwhtqh0000gn/T/ipykernel_1584/1614311846.py:1: FutureWarning: pandas.io.json.json_normalize is deprecated, use pandas.json_normalize instead.\n",
      "  results_df = pd.io.json.json_normalize(results['results']['bindings'])\n"
     ]
    }
   ],
   "source": [
    "results_df = pd.io.json.json_normalize(results['results']['bindings'])"
   ]
  },
  {
   "cell_type": "code",
   "execution_count": 6,
   "metadata": {},
   "outputs": [
    {
     "data": {
      "text/plain": [
       "(160, 5)"
      ]
     },
     "execution_count": 6,
     "metadata": {},
     "output_type": "execute_result"
    }
   ],
   "source": [
    "results_df.shape"
   ]
  },
  {
   "cell_type": "code",
   "execution_count": 7,
   "metadata": {},
   "outputs": [
    {
     "data": {
      "text/html": [
       "<div>\n",
       "<style scoped>\n",
       "    .dataframe tbody tr th:only-of-type {\n",
       "        vertical-align: middle;\n",
       "    }\n",
       "\n",
       "    .dataframe tbody tr th {\n",
       "        vertical-align: top;\n",
       "    }\n",
       "\n",
       "    .dataframe thead th {\n",
       "        text-align: right;\n",
       "    }\n",
       "</style>\n",
       "<table border=\"1\" class=\"dataframe\">\n",
       "  <thead>\n",
       "    <tr style=\"text-align: right;\">\n",
       "      <th></th>\n",
       "      <th>item.type</th>\n",
       "      <th>item.value</th>\n",
       "      <th>itemLabel.xml:lang</th>\n",
       "      <th>itemLabel.type</th>\n",
       "      <th>itemLabel.value</th>\n",
       "    </tr>\n",
       "  </thead>\n",
       "  <tbody>\n",
       "    <tr>\n",
       "      <th>0</th>\n",
       "      <td>uri</td>\n",
       "      <td>http://www.wikidata.org/entity/Q378619</td>\n",
       "      <td>en</td>\n",
       "      <td>literal</td>\n",
       "      <td>CC</td>\n",
       "    </tr>\n",
       "    <tr>\n",
       "      <th>1</th>\n",
       "      <td>uri</td>\n",
       "      <td>http://www.wikidata.org/entity/Q498787</td>\n",
       "      <td>en</td>\n",
       "      <td>literal</td>\n",
       "      <td>Muezza</td>\n",
       "    </tr>\n",
       "    <tr>\n",
       "      <th>2</th>\n",
       "      <td>uri</td>\n",
       "      <td>http://www.wikidata.org/entity/Q677525</td>\n",
       "      <td>en</td>\n",
       "      <td>literal</td>\n",
       "      <td>Orangey</td>\n",
       "    </tr>\n",
       "    <tr>\n",
       "      <th>3</th>\n",
       "      <td>uri</td>\n",
       "      <td>http://www.wikidata.org/entity/Q851190</td>\n",
       "      <td>en</td>\n",
       "      <td>literal</td>\n",
       "      <td>Mrs. Chippy</td>\n",
       "    </tr>\n",
       "    <tr>\n",
       "      <th>4</th>\n",
       "      <td>uri</td>\n",
       "      <td>http://www.wikidata.org/entity/Q893453</td>\n",
       "      <td>en</td>\n",
       "      <td>literal</td>\n",
       "      <td>Unsinkable Sam</td>\n",
       "    </tr>\n",
       "  </tbody>\n",
       "</table>\n",
       "</div>"
      ],
      "text/plain": [
       "  item.type                              item.value itemLabel.xml:lang  \\\n",
       "0       uri  http://www.wikidata.org/entity/Q378619                 en   \n",
       "1       uri  http://www.wikidata.org/entity/Q498787                 en   \n",
       "2       uri  http://www.wikidata.org/entity/Q677525                 en   \n",
       "3       uri  http://www.wikidata.org/entity/Q851190                 en   \n",
       "4       uri  http://www.wikidata.org/entity/Q893453                 en   \n",
       "\n",
       "  itemLabel.type itemLabel.value  \n",
       "0        literal              CC  \n",
       "1        literal          Muezza  \n",
       "2        literal         Orangey  \n",
       "3        literal     Mrs. Chippy  \n",
       "4        literal  Unsinkable Sam  "
      ]
     },
     "execution_count": 7,
     "metadata": {},
     "output_type": "execute_result"
    }
   ],
   "source": [
    "results_df.head()"
   ]
  },
  {
   "attachments": {},
   "cell_type": "markdown",
   "metadata": {},
   "source": [
    "# Connect to DBPedia"
   ]
  },
  {
   "cell_type": "code",
   "execution_count": 16,
   "metadata": {},
   "outputs": [],
   "source": [
    "sparql = SPARQLWrapper('https://dbpedia.org/sparql')\n",
    "sparql.setQuery('''\n",
    "PREFIX dbo: <http://dbpedia.org/ontology/> \n",
    "PREFIX foaf: <http://xmlns.com/foaf/0.1/> \n",
    "PREFIX rdf: <http://www.w3.org/1999/02/22-rdf-syntax-ns#> \n",
    "\n",
    "SELECT ?country ?city ?city_name\n",
    "WHERE {\n",
    "    ?city rdf:type dbo:City ;\n",
    "          foaf:name ?city_name ;\n",
    "          dbo:country ?country .\n",
    "    FILTER(langMatches(lang(?city_name), \"en\"))\n",
    "}\n",
    "ORDER BY ?city_name\n",
    "'''\n",
    ")\n",
    "sparql.setReturnFormat(JSON)\n",
    "results = sparql.query().convert()"
   ]
  },
  {
   "cell_type": "code",
   "execution_count": 17,
   "metadata": {},
   "outputs": [
    {
     "name": "stderr",
     "output_type": "stream",
     "text": [
      "/var/folders/3l/h5txsrx128z_kjh049xwhtqh0000gn/T/ipykernel_1584/673463325.py:1: FutureWarning: pandas.io.json.json_normalize is deprecated, use pandas.json_normalize instead.\n",
      "  dbpdia_result = pd.io.json.json_normalize(results['results']['bindings'])\n"
     ]
    },
    {
     "data": {
      "text/html": [
       "<div>\n",
       "<style scoped>\n",
       "    .dataframe tbody tr th:only-of-type {\n",
       "        vertical-align: middle;\n",
       "    }\n",
       "\n",
       "    .dataframe tbody tr th {\n",
       "        vertical-align: top;\n",
       "    }\n",
       "\n",
       "    .dataframe thead th {\n",
       "        text-align: right;\n",
       "    }\n",
       "</style>\n",
       "<table border=\"1\" class=\"dataframe\">\n",
       "  <thead>\n",
       "    <tr style=\"text-align: right;\">\n",
       "      <th></th>\n",
       "      <th>country.type</th>\n",
       "      <th>country.value</th>\n",
       "      <th>city.type</th>\n",
       "      <th>city.value</th>\n",
       "      <th>city_name.type</th>\n",
       "      <th>city_name.xml:lang</th>\n",
       "      <th>city_name.value</th>\n",
       "    </tr>\n",
       "  </thead>\n",
       "  <tbody>\n",
       "    <tr>\n",
       "      <th>0</th>\n",
       "      <td>uri</td>\n",
       "      <td>http://dbpedia.org/resource/Canada</td>\n",
       "      <td>uri</td>\n",
       "      <td>http://dbpedia.org/resource/Amqui</td>\n",
       "      <td>literal</td>\n",
       "      <td>en</td>\n",
       "      <td></td>\n",
       "    </tr>\n",
       "    <tr>\n",
       "      <th>1</th>\n",
       "      <td>uri</td>\n",
       "      <td>http://dbpedia.org/resource/Ukraine</td>\n",
       "      <td>uri</td>\n",
       "      <td>http://dbpedia.org/resource/Ustyluh</td>\n",
       "      <td>literal</td>\n",
       "      <td>en</td>\n",
       "      <td></td>\n",
       "    </tr>\n",
       "    <tr>\n",
       "      <th>2</th>\n",
       "      <td>uri</td>\n",
       "      <td>http://dbpedia.org/resource/Ukraine</td>\n",
       "      <td>uri</td>\n",
       "      <td>http://dbpedia.org/resource/Vashkivtsi</td>\n",
       "      <td>literal</td>\n",
       "      <td>en</td>\n",
       "      <td></td>\n",
       "    </tr>\n",
       "    <tr>\n",
       "      <th>3</th>\n",
       "      <td>uri</td>\n",
       "      <td>http://dbpedia.org/resource/Ukraine</td>\n",
       "      <td>uri</td>\n",
       "      <td>http://dbpedia.org/resource/Velyki_Mosty</td>\n",
       "      <td>literal</td>\n",
       "      <td>en</td>\n",
       "      <td></td>\n",
       "    </tr>\n",
       "    <tr>\n",
       "      <th>4</th>\n",
       "      <td>uri</td>\n",
       "      <td>http://dbpedia.org/resource/Greece</td>\n",
       "      <td>uri</td>\n",
       "      <td>http://dbpedia.org/resource/Veria</td>\n",
       "      <td>literal</td>\n",
       "      <td>en</td>\n",
       "      <td></td>\n",
       "    </tr>\n",
       "    <tr>\n",
       "      <th>...</th>\n",
       "      <td>...</td>\n",
       "      <td>...</td>\n",
       "      <td>...</td>\n",
       "      <td>...</td>\n",
       "      <td>...</td>\n",
       "      <td>...</td>\n",
       "      <td>...</td>\n",
       "    </tr>\n",
       "    <tr>\n",
       "      <th>9995</th>\n",
       "      <td>uri</td>\n",
       "      <td>http://dbpedia.org/resource/Canada</td>\n",
       "      <td>uri</td>\n",
       "      <td>http://dbpedia.org/resource/Léry,_Quebec</td>\n",
       "      <td>literal</td>\n",
       "      <td>en</td>\n",
       "      <td>Léry</td>\n",
       "    </tr>\n",
       "    <tr>\n",
       "      <th>9996</th>\n",
       "      <td>uri</td>\n",
       "      <td>http://dbpedia.org/resource/Canada</td>\n",
       "      <td>uri</td>\n",
       "      <td>http://dbpedia.org/resource/Lévis,_Quebec</td>\n",
       "      <td>literal</td>\n",
       "      <td>en</td>\n",
       "      <td>Lévis</td>\n",
       "    </tr>\n",
       "    <tr>\n",
       "      <th>9997</th>\n",
       "      <td>uri</td>\n",
       "      <td>http://dbpedia.org/resource/http://dbpedia.org...</td>\n",
       "      <td>uri</td>\n",
       "      <td>http://dbpedia.org/resource/Löbau</td>\n",
       "      <td>literal</td>\n",
       "      <td>en</td>\n",
       "      <td>Löbau</td>\n",
       "    </tr>\n",
       "    <tr>\n",
       "      <th>9998</th>\n",
       "      <td>uri</td>\n",
       "      <td>http://dbpedia.org/resource/http://dbpedia.org...</td>\n",
       "      <td>uri</td>\n",
       "      <td>http://dbpedia.org/resource/Lörrach</td>\n",
       "      <td>literal</td>\n",
       "      <td>en</td>\n",
       "      <td>Lörrach</td>\n",
       "    </tr>\n",
       "    <tr>\n",
       "      <th>9999</th>\n",
       "      <td>uri</td>\n",
       "      <td>http://dbpedia.org/resource/http://dbpedia.org...</td>\n",
       "      <td>uri</td>\n",
       "      <td>http://dbpedia.org/resource/Lübeck</td>\n",
       "      <td>literal</td>\n",
       "      <td>en</td>\n",
       "      <td>Lübeck</td>\n",
       "    </tr>\n",
       "  </tbody>\n",
       "</table>\n",
       "<p>10000 rows × 7 columns</p>\n",
       "</div>"
      ],
      "text/plain": [
       "     country.type                                      country.value  \\\n",
       "0             uri                 http://dbpedia.org/resource/Canada   \n",
       "1             uri                http://dbpedia.org/resource/Ukraine   \n",
       "2             uri                http://dbpedia.org/resource/Ukraine   \n",
       "3             uri                http://dbpedia.org/resource/Ukraine   \n",
       "4             uri                 http://dbpedia.org/resource/Greece   \n",
       "...           ...                                                ...   \n",
       "9995          uri                 http://dbpedia.org/resource/Canada   \n",
       "9996          uri                 http://dbpedia.org/resource/Canada   \n",
       "9997          uri  http://dbpedia.org/resource/http://dbpedia.org...   \n",
       "9998          uri  http://dbpedia.org/resource/http://dbpedia.org...   \n",
       "9999          uri  http://dbpedia.org/resource/http://dbpedia.org...   \n",
       "\n",
       "     city.type                                 city.value city_name.type  \\\n",
       "0          uri          http://dbpedia.org/resource/Amqui        literal   \n",
       "1          uri        http://dbpedia.org/resource/Ustyluh        literal   \n",
       "2          uri     http://dbpedia.org/resource/Vashkivtsi        literal   \n",
       "3          uri   http://dbpedia.org/resource/Velyki_Mosty        literal   \n",
       "4          uri          http://dbpedia.org/resource/Veria        literal   \n",
       "...        ...                                        ...            ...   \n",
       "9995       uri   http://dbpedia.org/resource/Léry,_Quebec        literal   \n",
       "9996       uri  http://dbpedia.org/resource/Lévis,_Quebec        literal   \n",
       "9997       uri          http://dbpedia.org/resource/Löbau        literal   \n",
       "9998       uri        http://dbpedia.org/resource/Lörrach        literal   \n",
       "9999       uri         http://dbpedia.org/resource/Lübeck        literal   \n",
       "\n",
       "     city_name.xml:lang city_name.value  \n",
       "0                    en                  \n",
       "1                    en                  \n",
       "2                    en                  \n",
       "3                    en                  \n",
       "4                    en                  \n",
       "...                 ...             ...  \n",
       "9995                 en            Léry  \n",
       "9996                 en           Lévis  \n",
       "9997                 en           Löbau  \n",
       "9998                 en         Lörrach  \n",
       "9999                 en          Lübeck  \n",
       "\n",
       "[10000 rows x 7 columns]"
      ]
     },
     "execution_count": 17,
     "metadata": {},
     "output_type": "execute_result"
    }
   ],
   "source": [
    "dbpdia_result = pd.io.json.json_normalize(results['results']['bindings'])\n",
    "dbpdia_result"
   ]
  },
  {
   "attachments": {},
   "cell_type": "markdown",
   "metadata": {},
   "source": [
    "# Connect to local GraphDB instance\n",
    "\n",
    "Instance running at 'http://localhost:7200/sparql'"
   ]
  },
  {
   "cell_type": "code",
   "execution_count": 18,
   "metadata": {},
   "outputs": [],
   "source": [
    "sparql = SPARQLWrapper('http://Jan-Lucass-MBP:7200/repositories/DQTest')"
   ]
  },
  {
   "cell_type": "code",
   "execution_count": 29,
   "metadata": {},
   "outputs": [
    {
     "name": "stderr",
     "output_type": "stream",
     "text": [
      "/var/folders/3l/h5txsrx128z_kjh049xwhtqh0000gn/T/ipykernel_1584/2345879232.py:19: FutureWarning: pandas.io.json.json_normalize is deprecated, use pandas.json_normalize instead.\n",
      "  results_df = pd.io.json.json_normalize(results['results']['bindings'])\n"
     ]
    },
    {
     "data": {
      "text/html": [
       "<div>\n",
       "<style scoped>\n",
       "    .dataframe tbody tr th:only-of-type {\n",
       "        vertical-align: middle;\n",
       "    }\n",
       "\n",
       "    .dataframe tbody tr th {\n",
       "        vertical-align: top;\n",
       "    }\n",
       "\n",
       "    .dataframe thead th {\n",
       "        text-align: right;\n",
       "    }\n",
       "</style>\n",
       "<table border=\"1\" class=\"dataframe\">\n",
       "  <thead>\n",
       "    <tr style=\"text-align: right;\">\n",
       "      <th></th>\n",
       "      <th>s.type</th>\n",
       "      <th>s.value</th>\n",
       "      <th>o.type</th>\n",
       "      <th>o.value</th>\n",
       "    </tr>\n",
       "  </thead>\n",
       "  <tbody>\n",
       "    <tr>\n",
       "      <th>0</th>\n",
       "      <td>uri</td>\n",
       "      <td>http://telegraphis.net/data/countries/FR#FR</td>\n",
       "      <td>uri</td>\n",
       "      <td>http://telegraphis.net/data/capitals/FR/Paris#...</td>\n",
       "    </tr>\n",
       "    <tr>\n",
       "      <th>1</th>\n",
       "      <td>uri</td>\n",
       "      <td>http://telegraphis.net/data/countries/DE#DE</td>\n",
       "      <td>uri</td>\n",
       "      <td>http://telegraphis.net/data/capitals/DE/Berlin...</td>\n",
       "    </tr>\n",
       "  </tbody>\n",
       "</table>\n",
       "</div>"
      ],
      "text/plain": [
       "  s.type                                      s.value o.type  \\\n",
       "0    uri  http://telegraphis.net/data/countries/FR#FR    uri   \n",
       "1    uri  http://telegraphis.net/data/countries/DE#DE    uri   \n",
       "\n",
       "                                             o.value  \n",
       "0  http://telegraphis.net/data/capitals/FR/Paris#...  \n",
       "1  http://telegraphis.net/data/capitals/DE/Berlin...  "
      ]
     },
     "execution_count": 29,
     "metadata": {},
     "output_type": "execute_result"
    }
   ],
   "source": [
    "sparql.setQuery(\n",
    "'''\n",
    "PREFIX rdf: <http://www.w3.org/1999/02/22-rdf-syntax-ns#>\n",
    "PREFIX rdfs: <http://www.w3.org/2000/01/rdf-schema#>\n",
    "PREFIX gn: <http://www.geonames.org/ontology#>\n",
    "PREFIX geo: <http://telegraphis.net/ontology/geography/geography#>\n",
    "PREFIX ctry: <http://telegraphis.net/data/countries/>\n",
    "\n",
    "SELECT * \n",
    "WHERE { \n",
    "\t?s geo:capital ?o .\n",
    "\tFILTER(?s IN (<http://telegraphis.net/data/countries/FR#FR>,<http://telegraphis.net/data/countries/DE#DE>)) .\n",
    "}\n",
    "'''\n",
    ")\n",
    "sparql.setReturnFormat(JSON)\n",
    "results = sparql.query().convert()\n",
    "\n",
    "results_df = pd.io.json.json_normalize(results['results']['bindings'])\n",
    "results_df"
   ]
  },
  {
   "cell_type": "code",
   "execution_count": null,
   "metadata": {},
   "outputs": [],
   "source": []
  }
 ],
 "metadata": {
  "kernelspec": {
   "display_name": "Python 3",
   "language": "python",
   "name": "python3"
  },
  "language_info": {
   "codemirror_mode": {
    "name": "ipython",
    "version": 3
   },
   "file_extension": ".py",
   "mimetype": "text/x-python",
   "name": "python",
   "nbconvert_exporter": "python",
   "pygments_lexer": "ipython3",
   "version": "3.10.6 (main, Aug 30 2022, 04:58:14) [Clang 13.1.6 (clang-1316.0.21.2.5)]"
  },
  "orig_nbformat": 2,
  "vscode": {
   "interpreter": {
    "hash": "b0fa6594d8f4cbf19f97940f81e996739fb7646882a419484c72d19e05852a7e"
   }
  }
 },
 "nbformat": 4,
 "nbformat_minor": 2
}
