{
 "cells": [
  {
   "cell_type": "code",
   "execution_count": 4,
   "metadata": {},
   "outputs": [],
   "source": [
    "# General Imports\n",
    "import numpy as np\n",
    "from numpy import random as rnd\n",
    "%matplotlib inline\n",
    "from matplotlib import pyplot as plt\n",
    "import os,sys,datetime,time,math, warnings,itertools\n",
    "\n",
    "import pandas as pd\n",
    "from contextlib import contextmanager\n",
    "\n",
    "# Snowpark imports\n",
    "from snowflake.snowpark.session import Session\n",
    "import snowflake.snowpark.functions as F\n",
    "import snowflake.snowpark.types as T\n",
    "from snowflake.snowpark.window import Window\n",
    "\n",
    "# Profiling imports\n",
    "#!pip install ydata_profiling --ignore-installed --user\n",
    "from ydata_profiling import ProfileReport"
   ]
  },
  {
   "cell_type": "code",
   "execution_count": 5,
   "metadata": {},
   "outputs": [
    {
     "name": "stdout",
     "output_type": "stream",
     "text": [
      "Initiating login request with your identity provider. A browser window should have opened for you to complete the login. If you can't see it, check existing browser windows, or your OS settings. Press CTRL+C to abort and try again...\n",
      "Going to open: https://login.microsoftonline.com/5dbf1add-202a-4b8d-815b-bf0fb024e033/saml2/?SAMLRequest=nZJRb5swFIX%2FCvKewQaSKbWSVFlZVqS0yxI6rX0z%2BJJaBZvaJiT99TMkkbqH9mFvln3u%2FY7vudPrQ115e9BGKDlDYUCQB7JQXMjdDD1kS3%2BCPGOZ5KxSEmboCAZdz6eG1VVDF619lht4bcFYzzWShvYPM9RqSRUzwlDJajDUFnS7uFvRKCCUGQPaOhw6l3AjHOvZ2oZi3HVd0MWB0jscEUIwucJO1Uu%2BoHeI5nNGo5VVhaouJQf3pw8QISajHuEUjrA%2BF34T8jSCzyj5SWTobZat%2FfXPbYa8xeV3N0qatga9Bb0XBTxsVicDxjnY3m7TLFkFnZubD61WDQTsrdUQGKm6smIvUKi6aa3rHrgTLoHjSu2Em1mazFDzIvhxlb%2Bmxf7RTH7Uf7bh9%2Fjx7Wgmv%2B7khhCWLBP9FLWwO9R7tSuQ9%2FuScNQnnBrTQir7XK27IlHsh5FPvmZhTKMxjaPgajx%2BQl7i%2FAnJ7FB5MT%2F4CGpRaGVUaZWshITB5ZjnZcg4911H5o%2FyCfcn4Tj385KUOYlGQOIY9%2BlFGJ1WiA5O9Px%2FBzPF77uct%2FLeBZUma1WJ4ugtla6Z%2FTjHMAiHG8H9cpBSqJmoFpxrMMblWVWqu9HArFt%2Bq1tAeH6i%2Frv%2B878%3D&RelayState=55863 to authenticate...\n"
     ]
    },
    {
     "ename": "MemoryError",
     "evalue": "Unable to allocate 6.74 MiB for an array with shape (883800,) and data type uint64",
     "output_type": "error",
     "traceback": [
      "\u001b[1;31m---------------------------------------------------------------------------\u001b[0m",
      "\u001b[1;31mMemoryError\u001b[0m                               Traceback (most recent call last)",
      "\u001b[1;32md:\\UserData\\z003mxpm\\gitdir\\GITREPO\\pyfiles\\16_PROJECT_SHS\\Profiling - Contacts.ipynb Cell 2\u001b[0m line \u001b[0;36m6\n\u001b[0;32m     <a href='vscode-notebook-cell:/d%3A/UserData/z003mxpm/gitdir/GITREPO/pyfiles/16_PROJECT_SHS/Profiling%20-%20Contacts.ipynb#W1sZmlsZQ%3D%3D?line=34'>35</a>\u001b[0m oC \u001b[39m=\u001b[39m session\u001b[39m.\u001b[39mtable(\u001b[39m\"\u001b[39m\u001b[39mCRMCLOUD_OSC.\u001b[39m\u001b[39m\\\"\u001b[39;00m\u001b[39mContacts\u001b[39m\u001b[39m\\\"\u001b[39;00m\u001b[39m\"\u001b[39m)\u001b[39m.\u001b[39mselect([\n\u001b[0;32m     <a href='vscode-notebook-cell:/d%3A/UserData/z003mxpm/gitdir/GITREPO/pyfiles/16_PROJECT_SHS/Profiling%20-%20Contacts.ipynb#W1sZmlsZQ%3D%3D?line=35'>36</a>\u001b[0m     \u001b[39m'\u001b[39m\u001b[39mContact First Name\u001b[39m\u001b[39m'\u001b[39m,\n\u001b[0;32m     <a href='vscode-notebook-cell:/d%3A/UserData/z003mxpm/gitdir/GITREPO/pyfiles/16_PROJECT_SHS/Profiling%20-%20Contacts.ipynb#W1sZmlsZQ%3D%3D?line=36'>37</a>\u001b[0m     \u001b[39m'\u001b[39m\u001b[39mContact Last Name\u001b[39m\u001b[39m'\u001b[39m,\n\u001b[1;32m   (...)\u001b[0m\n\u001b[0;32m     <a href='vscode-notebook-cell:/d%3A/UserData/z003mxpm/gitdir/GITREPO/pyfiles/16_PROJECT_SHS/Profiling%20-%20Contacts.ipynb#W1sZmlsZQ%3D%3D?line=57'>58</a>\u001b[0m     \u001b[39m'\u001b[39m\u001b[39mContact.Last Updated Timestamp\u001b[39m\u001b[39m'\u001b[39m,\n\u001b[0;32m     <a href='vscode-notebook-cell:/d%3A/UserData/z003mxpm/gitdir/GITREPO/pyfiles/16_PROJECT_SHS/Profiling%20-%20Contacts.ipynb#W1sZmlsZQ%3D%3D?line=58'>59</a>\u001b[0m ])\n\u001b[0;32m     <a href='vscode-notebook-cell:/d%3A/UserData/z003mxpm/gitdir/GITREPO/pyfiles/16_PROJECT_SHS/Profiling%20-%20Contacts.ipynb#W1sZmlsZQ%3D%3D?line=60'>61</a>\u001b[0m df_e \u001b[39m=\u001b[39m pd\u001b[39m.\u001b[39mDataFrame(eC\u001b[39m.\u001b[39msample(frac\u001b[39m=\u001b[39m\u001b[39m1\u001b[39m)\u001b[39m.\u001b[39mcollect())\n\u001b[1;32m---> <a href='vscode-notebook-cell:/d%3A/UserData/z003mxpm/gitdir/GITREPO/pyfiles/16_PROJECT_SHS/Profiling%20-%20Contacts.ipynb#W1sZmlsZQ%3D%3D?line=61'>62</a>\u001b[0m df_o \u001b[39m=\u001b[39m pd\u001b[39m.\u001b[39;49mDataFrame(oC\u001b[39m.\u001b[39;49msample(frac\u001b[39m=\u001b[39;49m\u001b[39m1\u001b[39;49m)\u001b[39m.\u001b[39;49mcollect())\n\u001b[0;32m     <a href='vscode-notebook-cell:/d%3A/UserData/z003mxpm/gitdir/GITREPO/pyfiles/16_PROJECT_SHS/Profiling%20-%20Contacts.ipynb#W1sZmlsZQ%3D%3D?line=63'>64</a>\u001b[0m session\u001b[39m.\u001b[39mclose()\n\u001b[0;32m     <a href='vscode-notebook-cell:/d%3A/UserData/z003mxpm/gitdir/GITREPO/pyfiles/16_PROJECT_SHS/Profiling%20-%20Contacts.ipynb#W1sZmlsZQ%3D%3D?line=65'>66</a>\u001b[0m replace_dict \u001b[39m=\u001b[39m {\n\u001b[0;32m     <a href='vscode-notebook-cell:/d%3A/UserData/z003mxpm/gitdir/GITREPO/pyfiles/16_PROJECT_SHS/Profiling%20-%20Contacts.ipynb#W1sZmlsZQ%3D%3D?line=66'>67</a>\u001b[0m     \u001b[39m'\u001b[39m\u001b[39mnull\u001b[39m\u001b[39m'\u001b[39m:\u001b[39mNone\u001b[39;00m,\n\u001b[0;32m     <a href='vscode-notebook-cell:/d%3A/UserData/z003mxpm/gitdir/GITREPO/pyfiles/16_PROJECT_SHS/Profiling%20-%20Contacts.ipynb#W1sZmlsZQ%3D%3D?line=67'>68</a>\u001b[0m     \u001b[39m'\u001b[39m\u001b[39mNULL\u001b[39m\u001b[39m'\u001b[39m:\u001b[39mNone\u001b[39;00m,\n\u001b[1;32m   (...)\u001b[0m\n\u001b[0;32m     <a href='vscode-notebook-cell:/d%3A/UserData/z003mxpm/gitdir/GITREPO/pyfiles/16_PROJECT_SHS/Profiling%20-%20Contacts.ipynb#W1sZmlsZQ%3D%3D?line=70'>71</a>\u001b[0m     \u001b[39m'\u001b[39m\u001b[39mN/A\u001b[39m\u001b[39m'\u001b[39m:\u001b[39mNone\u001b[39;00m\n\u001b[0;32m     <a href='vscode-notebook-cell:/d%3A/UserData/z003mxpm/gitdir/GITREPO/pyfiles/16_PROJECT_SHS/Profiling%20-%20Contacts.ipynb#W1sZmlsZQ%3D%3D?line=71'>72</a>\u001b[0m }\n",
      "File \u001b[1;32m~\\AppData\\Roaming\\Python\\Python311\\site-packages\\pandas\\core\\frame.py:782\u001b[0m, in \u001b[0;36mDataFrame.__init__\u001b[1;34m(self, data, index, columns, dtype, copy)\u001b[0m\n\u001b[0;32m    780\u001b[0m     \u001b[39mif\u001b[39;00m columns \u001b[39mis\u001b[39;00m \u001b[39mnot\u001b[39;00m \u001b[39mNone\u001b[39;00m:\n\u001b[0;32m    781\u001b[0m         columns \u001b[39m=\u001b[39m ensure_index(columns)\n\u001b[1;32m--> 782\u001b[0m     arrays, columns, index \u001b[39m=\u001b[39m nested_data_to_arrays(\n\u001b[0;32m    783\u001b[0m         \u001b[39m# error: Argument 3 to \"nested_data_to_arrays\" has incompatible\u001b[39;49;00m\n\u001b[0;32m    784\u001b[0m         \u001b[39m# type \"Optional[Collection[Any]]\"; expected \"Optional[Index]\"\u001b[39;49;00m\n\u001b[0;32m    785\u001b[0m         data,\n\u001b[0;32m    786\u001b[0m         columns,\n\u001b[0;32m    787\u001b[0m         index,  \u001b[39m# type: ignore[arg-type]\u001b[39;49;00m\n\u001b[0;32m    788\u001b[0m         dtype,\n\u001b[0;32m    789\u001b[0m     )\n\u001b[0;32m    790\u001b[0m     mgr \u001b[39m=\u001b[39m arrays_to_mgr(\n\u001b[0;32m    791\u001b[0m         arrays,\n\u001b[0;32m    792\u001b[0m         columns,\n\u001b[1;32m   (...)\u001b[0m\n\u001b[0;32m    795\u001b[0m         typ\u001b[39m=\u001b[39mmanager,\n\u001b[0;32m    796\u001b[0m     )\n\u001b[0;32m    797\u001b[0m \u001b[39melse\u001b[39;00m:\n",
      "File \u001b[1;32m~\\AppData\\Roaming\\Python\\Python311\\site-packages\\pandas\\core\\internals\\construction.py:498\u001b[0m, in \u001b[0;36mnested_data_to_arrays\u001b[1;34m(data, columns, index, dtype)\u001b[0m\n\u001b[0;32m    495\u001b[0m \u001b[39mif\u001b[39;00m is_named_tuple(data[\u001b[39m0\u001b[39m]) \u001b[39mand\u001b[39;00m columns \u001b[39mis\u001b[39;00m \u001b[39mNone\u001b[39;00m:\n\u001b[0;32m    496\u001b[0m     columns \u001b[39m=\u001b[39m ensure_index(data[\u001b[39m0\u001b[39m]\u001b[39m.\u001b[39m_fields)\n\u001b[1;32m--> 498\u001b[0m arrays, columns \u001b[39m=\u001b[39m to_arrays(data, columns, dtype\u001b[39m=\u001b[39;49mdtype)\n\u001b[0;32m    499\u001b[0m columns \u001b[39m=\u001b[39m ensure_index(columns)\n\u001b[0;32m    501\u001b[0m \u001b[39mif\u001b[39;00m index \u001b[39mis\u001b[39;00m \u001b[39mNone\u001b[39;00m:\n",
      "File \u001b[1;32m~\\AppData\\Roaming\\Python\\Python311\\site-packages\\pandas\\core\\internals\\construction.py:840\u001b[0m, in \u001b[0;36mto_arrays\u001b[1;34m(data, columns, dtype)\u001b[0m\n\u001b[0;32m    837\u001b[0m     data \u001b[39m=\u001b[39m [\u001b[39mtuple\u001b[39m(x) \u001b[39mfor\u001b[39;00m x \u001b[39min\u001b[39;00m data]\n\u001b[0;32m    838\u001b[0m     arr \u001b[39m=\u001b[39m _list_to_arrays(data)\n\u001b[1;32m--> 840\u001b[0m content, columns \u001b[39m=\u001b[39m _finalize_columns_and_data(arr, columns, dtype)\n\u001b[0;32m    841\u001b[0m \u001b[39mreturn\u001b[39;00m content, columns\n",
      "File \u001b[1;32m~\\AppData\\Roaming\\Python\\Python311\\site-packages\\pandas\\core\\internals\\construction.py:940\u001b[0m, in \u001b[0;36m_finalize_columns_and_data\u001b[1;34m(content, columns, dtype)\u001b[0m\n\u001b[0;32m    937\u001b[0m     \u001b[39mraise\u001b[39;00m \u001b[39mValueError\u001b[39;00m(err) \u001b[39mfrom\u001b[39;00m \u001b[39merr\u001b[39;00m\n\u001b[0;32m    939\u001b[0m \u001b[39mif\u001b[39;00m \u001b[39mlen\u001b[39m(contents) \u001b[39mand\u001b[39;00m contents[\u001b[39m0\u001b[39m]\u001b[39m.\u001b[39mdtype \u001b[39m==\u001b[39m np\u001b[39m.\u001b[39mobject_:\n\u001b[1;32m--> 940\u001b[0m     contents \u001b[39m=\u001b[39m convert_object_array(contents, dtype\u001b[39m=\u001b[39;49mdtype)\n\u001b[0;32m    942\u001b[0m \u001b[39mreturn\u001b[39;00m contents, columns\n",
      "File \u001b[1;32m~\\AppData\\Roaming\\Python\\Python311\\site-packages\\pandas\\core\\internals\\construction.py:1067\u001b[0m, in \u001b[0;36mconvert_object_array\u001b[1;34m(content, dtype, dtype_backend, coerce_float)\u001b[0m\n\u001b[0;32m   1063\u001b[0m             arr \u001b[39m=\u001b[39m maybe_cast_to_datetime(arr, dtype)\n\u001b[0;32m   1065\u001b[0m     \u001b[39mreturn\u001b[39;00m arr\n\u001b[1;32m-> 1067\u001b[0m arrays \u001b[39m=\u001b[39m [convert(arr) \u001b[39mfor\u001b[39;49;00m arr \u001b[39min\u001b[39;49;00m content]\n\u001b[0;32m   1069\u001b[0m \u001b[39mreturn\u001b[39;00m arrays\n",
      "File \u001b[1;32m~\\AppData\\Roaming\\Python\\Python311\\site-packages\\pandas\\core\\internals\\construction.py:1067\u001b[0m, in \u001b[0;36m<listcomp>\u001b[1;34m(.0)\u001b[0m\n\u001b[0;32m   1063\u001b[0m             arr \u001b[39m=\u001b[39m maybe_cast_to_datetime(arr, dtype)\n\u001b[0;32m   1065\u001b[0m     \u001b[39mreturn\u001b[39;00m arr\n\u001b[1;32m-> 1067\u001b[0m arrays \u001b[39m=\u001b[39m [convert(arr) \u001b[39mfor\u001b[39;00m arr \u001b[39min\u001b[39;00m content]\n\u001b[0;32m   1069\u001b[0m \u001b[39mreturn\u001b[39;00m arrays\n",
      "File \u001b[1;32m~\\AppData\\Roaming\\Python\\Python311\\site-packages\\pandas\\core\\internals\\construction.py:1025\u001b[0m, in \u001b[0;36mconvert_object_array.<locals>.convert\u001b[1;34m(arr)\u001b[0m\n\u001b[0;32m   1023\u001b[0m \u001b[39mdef\u001b[39;00m \u001b[39mconvert\u001b[39m(arr):\n\u001b[0;32m   1024\u001b[0m     \u001b[39mif\u001b[39;00m dtype \u001b[39m!=\u001b[39m np\u001b[39m.\u001b[39mdtype(\u001b[39m\"\u001b[39m\u001b[39mO\u001b[39m\u001b[39m\"\u001b[39m):\n\u001b[1;32m-> 1025\u001b[0m         arr \u001b[39m=\u001b[39m lib\u001b[39m.\u001b[39;49mmaybe_convert_objects(\n\u001b[0;32m   1026\u001b[0m             arr,\n\u001b[0;32m   1027\u001b[0m             try_float\u001b[39m=\u001b[39;49mcoerce_float,\n\u001b[0;32m   1028\u001b[0m             convert_to_nullable_dtype\u001b[39m=\u001b[39;49mdtype_backend \u001b[39m!=\u001b[39;49m \u001b[39m\"\u001b[39;49m\u001b[39mnumpy\u001b[39;49m\u001b[39m\"\u001b[39;49m,\n\u001b[0;32m   1029\u001b[0m         )\n\u001b[0;32m   1030\u001b[0m         \u001b[39m# Notes on cases that get here 2023-02-15\u001b[39;00m\n\u001b[0;32m   1031\u001b[0m         \u001b[39m# 1) we DO get here when arr is all Timestamps and dtype=None\u001b[39;00m\n\u001b[0;32m   1032\u001b[0m         \u001b[39m# 2) disabling this doesn't break the world, so this must be\u001b[39;00m\n\u001b[0;32m   1033\u001b[0m         \u001b[39m#    getting caught at a higher level\u001b[39;00m\n\u001b[0;32m   1034\u001b[0m         \u001b[39m# 3) passing convert_datetime to maybe_convert_objects get this right\u001b[39;00m\n\u001b[0;32m   1035\u001b[0m         \u001b[39m# 4) convert_timedelta?\u001b[39;00m\n\u001b[0;32m   1037\u001b[0m         \u001b[39mif\u001b[39;00m dtype \u001b[39mis\u001b[39;00m \u001b[39mNone\u001b[39;00m:\n",
      "File \u001b[1;32m~\\AppData\\Roaming\\Python\\Python311\\site-packages\\pandas\\_libs\\lib.pyx:2443\u001b[0m, in \u001b[0;36mpandas._libs.lib.maybe_convert_objects\u001b[1;34m()\u001b[0m\n",
      "\u001b[1;31mMemoryError\u001b[0m: Unable to allocate 6.74 MiB for an array with shape (883800,) and data type uint64"
     ]
    }
   ],
   "source": [
    "# Connection Parameters\n",
    "connection_parameters = {\n",
    "    'account':'shsitdl.west-europe.azure',\n",
    "    'user':'jan-lucas.deinhard@siemens-healthineers.com',\n",
    "    'authenticator':'externalbrowser',\n",
    "    'role':'FR_CRMCLOUD_DEV',\n",
    "    'database':'MARTLAYER',\n",
    "    'warehouse':'W_CRMCLOUD_P'\n",
    "}\n",
    "\n",
    "# Establish Connection\n",
    "session = Session.builder.configs(connection_parameters).create()\n",
    "\n",
    "eC = session.table(\"CRMCLOUD_ELOQUA.\\\"Contacts\\\"\").select([\n",
    "    'Contact.Full Name',\n",
    "    'Contact First Name',\n",
    "    'Contact Last Name',\n",
    "    'Contact.Email Address',\n",
    "    'Contact.Address Country', \n",
    "    'Contact.City',\n",
    "    'Contact.Postal Code',\n",
    "    'Contact.Address Line 1',\n",
    "    'Contact.Address Line 2', \n",
    "    'Contact.Address Line 3', \n",
    "    'Contact.Business Phone', \n",
    "    'Contact.Mobile Phone',\n",
    "    'Contact Job Title', \n",
    "    'Contact Status',\n",
    "    'Contact.SYS_Opt-in',\n",
    "    'Contact.SYS_Opt-in (Flag)', \n",
    "    'OSC Account Number',\n",
    "    'Contact.Created Date', \n",
    "    'Contact.Last Updated Date', \n",
    "])\n",
    "oC = session.table(\"CRMCLOUD_OSC.\\\"Contacts\\\"\").select([\n",
    "    'Contact First Name',\n",
    "    'Contact Last Name',\n",
    "    'Contact.E-Mail',\n",
    "    'Contact.Address Country',\n",
    "    'Contact.City',\n",
    "    'Contact.Postal Code',\n",
    "    'Contact.Address Line 1',\n",
    "    'Contact.Address Line 2',\n",
    "    'Contact.Address Line 3',\n",
    "    'Contact.Address Line 4',\n",
    "    'Contact.Phone',\n",
    "    'Contact.Phone Area Code',\n",
    "    'Contact.Phone Country Code',\n",
    "    'Contact Job Title',\n",
    "    'Contact.Status',\n",
    "    'Contact GDPR (Flag)',\n",
    "    'Contact Never Call',\n",
    "    'Contact Never Email',\n",
    "    'Contact.Do Not Mail (Flag)',\n",
    "    'ACCOUNT_ID (Contact)',\n",
    "    'EMPLOYEE_ID (Owner)',\n",
    "    'Contact.Created Timestamp',\n",
    "    'Contact.Last Updated Timestamp',\n",
    "])\n",
    "\n",
    "df_e = pd.DataFrame(eC.sample(frac=1).collect())\n",
    "df_o = pd.DataFrame(oC.sample(frac=1).collect())\n",
    "\n",
    "session.close()\n",
    "\n",
    "replace_dict = {\n",
    "    'null':None,\n",
    "    'NULL':None,\n",
    "    'Null':None,\n",
    "    'n/a':None,\n",
    "    'N/A':None\n",
    "}\n",
    "\n",
    "df_o = df_o.replace(replace_dict)\n",
    "df_e = df_e.replace(replace_dict)"
   ]
  },
  {
   "cell_type": "code",
   "execution_count": null,
   "metadata": {},
   "outputs": [],
   "source": []
  },
  {
   "cell_type": "code",
   "execution_count": null,
   "metadata": {},
   "outputs": [],
   "source": []
  },
  {
   "cell_type": "code",
   "execution_count": null,
   "metadata": {},
   "outputs": [],
   "source": []
  },
  {
   "cell_type": "code",
   "execution_count": 6,
   "metadata": {},
   "outputs": [
    {
     "data": {
      "application/vnd.jupyter.widget-view+json": {
       "model_id": "a440416e8c234edd9509b3929cb34c07",
       "version_major": 2,
       "version_minor": 0
      },
      "text/plain": [
       "Summarize dataset:   0%|          | 0/5 [00:00<?, ?it/s]"
      ]
     },
     "metadata": {},
     "output_type": "display_data"
    },
    {
     "data": {
      "application/vnd.jupyter.widget-view+json": {
       "model_id": "cd1dcbd1bbc9428e9cb811538ab1bc70",
       "version_major": 2,
       "version_minor": 0
      },
      "text/plain": [
       "Generate report structure:   0%|          | 0/1 [00:00<?, ?it/s]"
      ]
     },
     "metadata": {},
     "output_type": "display_data"
    },
    {
     "data": {
      "application/vnd.jupyter.widget-view+json": {
       "model_id": "f64ff0ff760545d3ad2d7e100f4e72e4",
       "version_major": 2,
       "version_minor": 0
      },
      "text/plain": [
       "Render HTML:   0%|          | 0/1 [00:00<?, ?it/s]"
      ]
     },
     "metadata": {},
     "output_type": "display_data"
    },
    {
     "data": {
      "application/vnd.jupyter.widget-view+json": {
       "model_id": "6e93029a8550471abbc452df3fb0a015",
       "version_major": 2,
       "version_minor": 0
      },
      "text/plain": [
       "Export report to file:   0%|          | 0/1 [00:00<?, ?it/s]"
      ]
     },
     "metadata": {},
     "output_type": "display_data"
    }
   ],
   "source": [
    "profile_osc = ProfileReport(df_o, title=\"OSC Profiling Report\")\n",
    "profile_osc.to_file(r'C:\\\\Users\\\\z003mxpm\\\\Desktop\\\\osc_contacts_report.html')"
   ]
  },
  {
   "cell_type": "code",
   "execution_count": 5,
   "metadata": {},
   "outputs": [
    {
     "data": {
      "application/vnd.jupyter.widget-view+json": {
       "model_id": "18a2b5234cd8417bbd9a24f14c3c8e5e",
       "version_major": 2,
       "version_minor": 0
      },
      "text/plain": [
       "Summarize dataset:   0%|          | 0/5 [00:00<?, ?it/s]"
      ]
     },
     "metadata": {},
     "output_type": "display_data"
    },
    {
     "data": {
      "application/vnd.jupyter.widget-view+json": {
       "model_id": "772a02ea9c354a2abd2a3a490624ad45",
       "version_major": 2,
       "version_minor": 0
      },
      "text/plain": [
       "Generate report structure:   0%|          | 0/1 [00:00<?, ?it/s]"
      ]
     },
     "metadata": {},
     "output_type": "display_data"
    },
    {
     "data": {
      "application/vnd.jupyter.widget-view+json": {
       "model_id": "6067a79bb54b430daf36be9b56cb1437",
       "version_major": 2,
       "version_minor": 0
      },
      "text/plain": [
       "Render HTML:   0%|          | 0/1 [00:00<?, ?it/s]"
      ]
     },
     "metadata": {},
     "output_type": "display_data"
    },
    {
     "data": {
      "application/vnd.jupyter.widget-view+json": {
       "model_id": "aac35748d145432f99afaecde1fac84b",
       "version_major": 2,
       "version_minor": 0
      },
      "text/plain": [
       "Export report to file:   0%|          | 0/1 [00:00<?, ?it/s]"
      ]
     },
     "metadata": {},
     "output_type": "display_data"
    }
   ],
   "source": [
    "profile_elo = ProfileReport(df_e, title=\"ELOQUA Profiling Report\")\n",
    "profile_elo.to_file(r'C:\\\\Users\\\\z003mxpm\\\\Desktop\\\\eloqua_contacts_report.html')"
   ]
  },
  {
   "cell_type": "code",
   "execution_count": null,
   "metadata": {},
   "outputs": [],
   "source": []
  },
  {
   "cell_type": "code",
   "execution_count": null,
   "metadata": {},
   "outputs": [],
   "source": []
  },
  {
   "cell_type": "code",
   "execution_count": null,
   "metadata": {},
   "outputs": [],
   "source": []
  },
  {
   "cell_type": "code",
   "execution_count": 23,
   "metadata": {},
   "outputs": [],
   "source": []
  },
  {
   "cell_type": "code",
   "execution_count": 3,
   "metadata": {},
   "outputs": [
    {
     "name": "stderr",
     "output_type": "stream",
     "text": [
      "C:\\Users\\z003mxpm\\AppData\\Local\\Temp\\ipykernel_7876\\3021581314.py:3: SettingWithCopyWarning: \n",
      "A value is trying to be set on a copy of a slice from a DataFrame.\n",
      "Try using .loc[row_indexer,col_indexer] = value instead\n",
      "\n",
      "See the caveats in the documentation: https://pandas.pydata.org/pandas-docs/stable/user_guide/indexing.html#returning-a-view-versus-a-copy\n",
      "  of_o['Contact.E-Mail normalized'] = of_o['Contact.E-Mail'].str.lower()\n",
      "C:\\Users\\z003mxpm\\AppData\\Local\\Temp\\ipykernel_7876\\3021581314.py:4: SettingWithCopyWarning: \n",
      "A value is trying to be set on a copy of a slice from a DataFrame.\n",
      "Try using .loc[row_indexer,col_indexer] = value instead\n",
      "\n",
      "See the caveats in the documentation: https://pandas.pydata.org/pandas-docs/stable/user_guide/indexing.html#returning-a-view-versus-a-copy\n",
      "  of_o['Contact Full Name normalized (synth)'] = of_o[['Contact First Name','Contact Last Name']].apply(lambda x: str(x[0]).strip().lower()+' '+str(x[1]).strip().lower(),axis=1)\n",
      "C:\\Users\\z003mxpm\\AppData\\Local\\Temp\\ipykernel_7876\\3021581314.py:5: SettingWithCopyWarning: \n",
      "A value is trying to be set on a copy of a slice from a DataFrame.\n",
      "Try using .loc[row_indexer,col_indexer] = value instead\n",
      "\n",
      "See the caveats in the documentation: https://pandas.pydata.org/pandas-docs/stable/user_guide/indexing.html#returning-a-view-versus-a-copy\n",
      "  of_o['Contact Identifier (synth)'] = of_o[['Contact Full Name normalized (synth)','Contact.E-Mail normalized']].apply(lambda x: x[0]+'|'+str(x[1]).replace(' ',''),axis=1)\n"
     ]
    }
   ],
   "source": [
    "of_o = df_o[['Contact.E-Mail','Contact First Name','Contact Last Name']]\n",
    "\n",
    "of_o['Contact.E-Mail normalized'] = of_o['Contact.E-Mail'].str.lower()\n",
    "of_o['Contact Full Name normalized (synth)'] = of_o[['Contact First Name','Contact Last Name']].apply(lambda x: str(x[0]).strip().lower()+' '+str(x[1]).strip().lower(),axis=1)\n",
    "of_o['Contact Identifier (synth)'] = of_o[['Contact Full Name normalized (synth)','Contact.E-Mail normalized']].apply(lambda x: x[0]+'|'+str(x[1]).replace(' ',''),axis=1)\n",
    "\n",
    "of_o = of_o[[\n",
    "    'Contact.E-Mail normalized',\n",
    "    'Contact Full Name normalized (synth)',\n",
    "    'Contact Identifier (synth)'\n",
    "]]"
   ]
  },
  {
   "cell_type": "code",
   "execution_count": 4,
   "metadata": {},
   "outputs": [
    {
     "name": "stderr",
     "output_type": "stream",
     "text": [
      "C:\\Users\\z003mxpm\\AppData\\Local\\Temp\\ipykernel_7876\\1493312112.py:3: SettingWithCopyWarning: \n",
      "A value is trying to be set on a copy of a slice from a DataFrame.\n",
      "Try using .loc[row_indexer,col_indexer] = value instead\n",
      "\n",
      "See the caveats in the documentation: https://pandas.pydata.org/pandas-docs/stable/user_guide/indexing.html#returning-a-view-versus-a-copy\n",
      "  of_e['Contact.E-Mail normalized'] = of_e['Contact.Email Address'].str.lower()\n",
      "C:\\Users\\z003mxpm\\AppData\\Local\\Temp\\ipykernel_7876\\1493312112.py:4: SettingWithCopyWarning: \n",
      "A value is trying to be set on a copy of a slice from a DataFrame.\n",
      "Try using .loc[row_indexer,col_indexer] = value instead\n",
      "\n",
      "See the caveats in the documentation: https://pandas.pydata.org/pandas-docs/stable/user_guide/indexing.html#returning-a-view-versus-a-copy\n",
      "  of_e['Contact Full Name normalized (synth)'] = of_e[['Contact First Name','Contact Last Name']].apply(lambda x: str(x[0]).strip().lower()+' '+str(x[1]).strip().lower(),axis=1)\n",
      "C:\\Users\\z003mxpm\\AppData\\Local\\Temp\\ipykernel_7876\\1493312112.py:5: SettingWithCopyWarning: \n",
      "A value is trying to be set on a copy of a slice from a DataFrame.\n",
      "Try using .loc[row_indexer,col_indexer] = value instead\n",
      "\n",
      "See the caveats in the documentation: https://pandas.pydata.org/pandas-docs/stable/user_guide/indexing.html#returning-a-view-versus-a-copy\n",
      "  of_e['Contact Identifier (synth)'] = of_e[['Contact Full Name normalized (synth)','Contact.Email Address']].apply(lambda x: x[0]+'|'+str(x[1]).replace(' ',''),axis=1)\n"
     ]
    }
   ],
   "source": [
    "of_e = df_e[['Contact.Email Address','Contact First Name','Contact Last Name']]\n",
    "\n",
    "of_e['Contact.E-Mail normalized'] = of_e['Contact.Email Address'].str.lower()\n",
    "of_e['Contact Full Name normalized (synth)'] = of_e[['Contact First Name','Contact Last Name']].apply(lambda x: str(x[0]).strip().lower()+' '+str(x[1]).strip().lower(),axis=1)\n",
    "of_e['Contact Identifier (synth)'] = of_e[['Contact Full Name normalized (synth)','Contact.Email Address']].apply(lambda x: x[0]+'|'+str(x[1]).replace(' ',''),axis=1)\n",
    "\n",
    "of_e = of_e[[\n",
    "    'Contact.E-Mail normalized',\n",
    "    'Contact Full Name normalized (synth)',\n",
    "    'Contact Identifier (synth)'\n",
    "]]"
   ]
  },
  {
   "cell_type": "code",
   "execution_count": 5,
   "metadata": {},
   "outputs": [
    {
     "data": {
      "text/html": [
       "<div>\n",
       "<style scoped>\n",
       "    .dataframe tbody tr th:only-of-type {\n",
       "        vertical-align: middle;\n",
       "    }\n",
       "\n",
       "    .dataframe tbody tr th {\n",
       "        vertical-align: top;\n",
       "    }\n",
       "\n",
       "    .dataframe thead th {\n",
       "        text-align: right;\n",
       "    }\n",
       "</style>\n",
       "<table border=\"1\" class=\"dataframe\">\n",
       "  <thead>\n",
       "    <tr style=\"text-align: right;\">\n",
       "      <th></th>\n",
       "      <th>Contact.E-Mail normalized</th>\n",
       "      <th>Contact Full Name normalized (synth)</th>\n",
       "      <th>Contact Identifier (synth)</th>\n",
       "    </tr>\n",
       "  </thead>\n",
       "  <tbody>\n",
       "    <tr>\n",
       "      <th>0</th>\n",
       "      <td>None</td>\n",
       "      <td>貴也 河俣</td>\n",
       "      <td>貴也 河俣|None</td>\n",
       "    </tr>\n",
       "    <tr>\n",
       "      <th>1</th>\n",
       "      <td>None</td>\n",
       "      <td>祥子 荒井</td>\n",
       "      <td>祥子 荒井|None</td>\n",
       "    </tr>\n",
       "    <tr>\n",
       "      <th>2</th>\n",
       "      <td>None</td>\n",
       "      <td>啓子 荒川</td>\n",
       "      <td>啓子 荒川|None</td>\n",
       "    </tr>\n",
       "    <tr>\n",
       "      <th>3</th>\n",
       "      <td>None</td>\n",
       "      <td>千佳 戸倉</td>\n",
       "      <td>千佳 戸倉|None</td>\n",
       "    </tr>\n",
       "    <tr>\n",
       "      <th>4</th>\n",
       "      <td>None</td>\n",
       "      <td>保 奥秋</td>\n",
       "      <td>保 奥秋|None</td>\n",
       "    </tr>\n",
       "  </tbody>\n",
       "</table>\n",
       "</div>"
      ],
      "text/plain": [
       "  Contact.E-Mail normalized Contact Full Name normalized (synth)  \\\n",
       "0                      None                                貴也 河俣   \n",
       "1                      None                                祥子 荒井   \n",
       "2                      None                                啓子 荒川   \n",
       "3                      None                                千佳 戸倉   \n",
       "4                      None                                 保 奥秋   \n",
       "\n",
       "  Contact Identifier (synth)  \n",
       "0                 貴也 河俣|None  \n",
       "1                 祥子 荒井|None  \n",
       "2                 啓子 荒川|None  \n",
       "3                 千佳 戸倉|None  \n",
       "4                  保 奥秋|None  "
      ]
     },
     "execution_count": 5,
     "metadata": {},
     "output_type": "execute_result"
    }
   ],
   "source": [
    "of_o.head()"
   ]
  },
  {
   "cell_type": "code",
   "execution_count": 6,
   "metadata": {},
   "outputs": [
    {
     "data": {
      "text/html": [
       "<div>\n",
       "<style scoped>\n",
       "    .dataframe tbody tr th:only-of-type {\n",
       "        vertical-align: middle;\n",
       "    }\n",
       "\n",
       "    .dataframe tbody tr th {\n",
       "        vertical-align: top;\n",
       "    }\n",
       "\n",
       "    .dataframe thead th {\n",
       "        text-align: right;\n",
       "    }\n",
       "</style>\n",
       "<table border=\"1\" class=\"dataframe\">\n",
       "  <thead>\n",
       "    <tr style=\"text-align: right;\">\n",
       "      <th></th>\n",
       "      <th>Contact.E-Mail normalized</th>\n",
       "      <th>Contact Full Name normalized (synth)</th>\n",
       "      <th>Contact Identifier (synth)</th>\n",
       "    </tr>\n",
       "  </thead>\n",
       "  <tbody>\n",
       "    <tr>\n",
       "      <th>0</th>\n",
       "      <td>ekleinert@rwjuhr.com</td>\n",
       "      <td>eric kleinert</td>\n",
       "      <td>eric kleinert|ekleinert@rwjuhr.com</td>\n",
       "    </tr>\n",
       "    <tr>\n",
       "      <th>1</th>\n",
       "      <td>m.van.buul@antoniusziekenhuis.nl</td>\n",
       "      <td>m.m.c. van buul</td>\n",
       "      <td>m.m.c. van buul|m.van.buul@antoniusziekenhuis.nl</td>\n",
       "    </tr>\n",
       "    <tr>\n",
       "      <th>2</th>\n",
       "      <td>linda.d.thompson@hitchcock.org</td>\n",
       "      <td>none none</td>\n",
       "      <td>none none|linda.d.thompson@hitchcock.org</td>\n",
       "    </tr>\n",
       "    <tr>\n",
       "      <th>3</th>\n",
       "      <td>bridges.mellena@mayo.edu</td>\n",
       "      <td>mellena bridges</td>\n",
       "      <td>mellena bridges|bridges.mellena@mayo.edu</td>\n",
       "    </tr>\n",
       "    <tr>\n",
       "      <th>4</th>\n",
       "      <td>1076172170@qq.com</td>\n",
       "      <td>王茂飞 王</td>\n",
       "      <td>王茂飞 王|1076172170@qq.com</td>\n",
       "    </tr>\n",
       "  </tbody>\n",
       "</table>\n",
       "</div>"
      ],
      "text/plain": [
       "          Contact.E-Mail normalized Contact Full Name normalized (synth)  \\\n",
       "0              ekleinert@rwjuhr.com                        eric kleinert   \n",
       "1  m.van.buul@antoniusziekenhuis.nl                      m.m.c. van buul   \n",
       "2    linda.d.thompson@hitchcock.org                            none none   \n",
       "3          bridges.mellena@mayo.edu                      mellena bridges   \n",
       "4                 1076172170@qq.com                                王茂飞 王   \n",
       "\n",
       "                         Contact Identifier (synth)  \n",
       "0                eric kleinert|ekleinert@rwjuhr.com  \n",
       "1  m.m.c. van buul|m.van.buul@antoniusziekenhuis.nl  \n",
       "2          none none|linda.d.thompson@hitchcock.org  \n",
       "3          mellena bridges|bridges.mellena@mayo.edu  \n",
       "4                           王茂飞 王|1076172170@qq.com  "
      ]
     },
     "execution_count": 6,
     "metadata": {},
     "output_type": "execute_result"
    }
   ],
   "source": [
    "of_e.head()"
   ]
  },
  {
   "cell_type": "code",
   "execution_count": 8,
   "metadata": {},
   "outputs": [],
   "source": [
    "from matplotlib_venn import venn2"
   ]
  },
  {
   "cell_type": "code",
   "execution_count": 7,
   "metadata": {},
   "outputs": [],
   "source": [
    "l_osc = set(of_o['Contact Identifier (synth)'].tolist())\n",
    "l_elo = set(of_e['Contact Identifier (synth)'].tolist())"
   ]
  },
  {
   "cell_type": "code",
   "execution_count": 9,
   "metadata": {},
   "outputs": [
    {
     "data": {
      "image/png": "[encoded data removed]",
      "text/plain": [
       "<Figure size 640x480 with 1 Axes>"
      ]
     },
     "metadata": {},
     "output_type": "display_data"
    }
   ],
   "source": [
    "venn2(\n",
    "    [l_osc, l_elo],\n",
    "    set_labels=('OSC.Contacts', 'ELOQUA.Contacts')\n",
    ")\n",
    "plt.show()"
   ]
  },
  {
   "cell_type": "code",
   "execution_count": null,
   "metadata": {},
   "outputs": [],
   "source": []
  },
  {
   "cell_type": "code",
   "execution_count": null,
   "metadata": {},
   "outputs": [],
   "source": []
  },
  {
   "cell_type": "code",
   "execution_count": null,
   "metadata": {},
   "outputs": [],
   "source": []
  },
  {
   "cell_type": "code",
   "execution_count": 15,
   "metadata": {},
   "outputs": [],
   "source": [
    "ct_o = of_o[['Contact Identifier (synth)']].groupby(['Contact Identifier (synth)']).size().reset_index(name='counts')\n",
    "ct_e = of_e[['Contact Identifier (synth)']].groupby(['Contact Identifier (synth)']).size().reset_index(name='counts')"
   ]
  },
  {
   "cell_type": "code",
   "execution_count": 19,
   "metadata": {},
   "outputs": [
    {
     "data": {
      "text/plain": [
       "0.8001075540933823"
      ]
     },
     "execution_count": 19,
     "metadata": {},
     "output_type": "execute_result"
    }
   ],
   "source": [
    "ct_o[ct_o['counts']==1].shape[0]/ct_o.shape[0]"
   ]
  },
  {
   "cell_type": "code",
   "execution_count": 20,
   "metadata": {},
   "outputs": [
    {
     "data": {
      "text/plain": [
       "0.9999978739327142"
      ]
     },
     "execution_count": 20,
     "metadata": {},
     "output_type": "execute_result"
    }
   ],
   "source": [
    "ct_e[ct_e['counts']==1].shape[0]/ct_e.shape[0]"
   ]
  },
  {
   "cell_type": "code",
   "execution_count": 21,
   "metadata": {},
   "outputs": [
    {
     "data": {
      "text/html": [
       "<div>\n",
       "<style scoped>\n",
       "    .dataframe tbody tr th:only-of-type {\n",
       "        vertical-align: middle;\n",
       "    }\n",
       "\n",
       "    .dataframe tbody tr th {\n",
       "        vertical-align: top;\n",
       "    }\n",
       "\n",
       "    .dataframe thead th {\n",
       "        text-align: right;\n",
       "    }\n",
       "</style>\n",
       "<table border=\"1\" class=\"dataframe\">\n",
       "  <thead>\n",
       "    <tr style=\"text-align: right;\">\n",
       "      <th></th>\n",
       "      <th>Contact Identifier (synth)</th>\n",
       "      <th>counts</th>\n",
       "    </tr>\n",
       "  </thead>\n",
       "  <tbody>\n",
       "    <tr>\n",
       "      <th>5</th>\n",
       "      <td># #|None</td>\n",
       "      <td>2</td>\n",
       "    </tr>\n",
       "    <tr>\n",
       "      <th>23</th>\n",
       "      <td>(col) i sinha|doctorsinha@gmail.com</td>\n",
       "      <td>28</td>\n",
       "    </tr>\n",
       "    <tr>\n",
       "      <th>33</th>\n",
       "      <td>* *|None</td>\n",
       "      <td>20</td>\n",
       "    </tr>\n",
       "    <tr>\n",
       "      <th>37</th>\n",
       "      <td>* ansari|None</td>\n",
       "      <td>2</td>\n",
       "    </tr>\n",
       "    <tr>\n",
       "      <th>66</th>\n",
       "      <td>* malupari|None</td>\n",
       "      <td>2</td>\n",
       "    </tr>\n",
       "    <tr>\n",
       "      <th>...</th>\n",
       "      <td>...</td>\n",
       "      <td>...</td>\n",
       "    </tr>\n",
       "    <tr>\n",
       "      <th>663775</th>\n",
       "      <td>ｚｈｅｎｇ ｒｏｂｅｒｔ|None</td>\n",
       "      <td>2</td>\n",
       "    </tr>\n",
       "    <tr>\n",
       "      <th>663784</th>\n",
       "      <td>ｰ 伊藤|None</td>\n",
       "      <td>2</td>\n",
       "    </tr>\n",
       "    <tr>\n",
       "      <th>663786</th>\n",
       "      <td>ｰ 佐藤|None</td>\n",
       "      <td>4</td>\n",
       "    </tr>\n",
       "    <tr>\n",
       "      <th>663789</th>\n",
       "      <td>ｰ 加藤|None</td>\n",
       "      <td>3</td>\n",
       "    </tr>\n",
       "    <tr>\n",
       "      <th>663847</th>\n",
       "      <td>ｼﾞｬﾝﾎﾞ 池田|None</td>\n",
       "      <td>2</td>\n",
       "    </tr>\n",
       "  </tbody>\n",
       "</table>\n",
       "<p>132699 rows × 2 columns</p>\n",
       "</div>"
      ],
      "text/plain": [
       "                 Contact Identifier (synth)  counts\n",
       "5                                  # #|None       2\n",
       "23      (col) i sinha|doctorsinha@gmail.com      28\n",
       "33                                 * *|None      20\n",
       "37                            * ansari|None       2\n",
       "66                          * malupari|None       2\n",
       "...                                     ...     ...\n",
       "663775                    ｚｈｅｎｇ ｒｏｂｅｒｔ|None       2\n",
       "663784                            ｰ 伊藤|None       2\n",
       "663786                            ｰ 佐藤|None       4\n",
       "663789                            ｰ 加藤|None       3\n",
       "663847                       ｼﾞｬﾝﾎﾞ 池田|None       2\n",
       "\n",
       "[132699 rows x 2 columns]"
      ]
     },
     "execution_count": 21,
     "metadata": {},
     "output_type": "execute_result"
    }
   ],
   "source": [
    "ct_o[ct_o['counts']>1]"
   ]
  },
  {
   "cell_type": "code",
   "execution_count": null,
   "metadata": {},
   "outputs": [],
   "source": []
  }
 ],
 "metadata": {
  "kernelspec": {
   "display_name": "base",
   "language": "python",
   "name": "python3"
  },
  "language_info": {
   "codemirror_mode": {
    "name": "ipython",
    "version": 3
   },
   "file_extension": ".py",
   "mimetype": "text/x-python",
   "name": "python",
   "nbconvert_exporter": "python",
   "pygments_lexer": "ipython3",
   "version": "3.11.5"
  }
 },
 "nbformat": 4,
 "nbformat_minor": 2
}
