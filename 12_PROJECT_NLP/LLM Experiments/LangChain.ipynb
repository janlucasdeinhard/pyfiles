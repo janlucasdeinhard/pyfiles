{
 "cells": [
  {
   "cell_type": "code",
   "execution_count": 1,
   "metadata": {},
   "outputs": [],
   "source": [
    "import numpy as np \n",
    "from numpy import random as rnd\n",
    "from matplotlib import pyplot as plt \n",
    "import warnings,datetime,time,sys,os,itertools,math \n",
    "\n",
    "import pandas as pd"
   ]
  },
  {
   "cell_type": "code",
   "execution_count": 2,
   "metadata": {},
   "outputs": [],
   "source": [
    "from langchain.llms import OpenAI\n",
    "from langchain.embeddings import OpenAIEmbeddings\n",
    "\n",
    "from langchain import ConversationChain\n",
    "\n",
    "from langchain.tools import GooglePlacesTool"
   ]
  },
  {
   "cell_type": "code",
   "execution_count": 3,
   "metadata": {},
   "outputs": [],
   "source": [
    "if sys.platform=='win32':\n",
    "    api_key_file_target = r'C:\\\\Users\\\\z003mxpm\\\\Desktop\\\\Library_SHS\\\\keys\\\\langchain.txt'\n",
    "else:\n",
    "    api_key_file_target = r'/Users/janlucasdeinhard/Local Keystore/langchain.txt'\n",
    "\n",
    "api_keys = {}\n",
    "\n",
    "with open(api_key_file_target,'r') as f:\n",
    "    text = f.readline()\n",
    "    while len(text)>0:\n",
    "        linelist = [k.strip() for k in text.split(':')]\n",
    "        assert len(linelist)==2,'Target file corrupted!'\n",
    "        api_keys[linelist[0]] = linelist[1]\n",
    "        text = f.readline()"
   ]
  },
  {
   "cell_type": "code",
   "execution_count": 4,
   "metadata": {},
   "outputs": [
    {
     "name": "stderr",
     "output_type": "stream",
     "text": [
      "c:\\Users\\z003mxpm\\Anaconda3\\lib\\site-packages\\langchain\\llms\\openai.py:171: UserWarning: You are trying to use a chat model. This way of initializing it is no longer supported. Instead, please use: `from langchain.chat_models import ChatOpenAI`\n",
      "  warnings.warn(\n",
      "c:\\Users\\z003mxpm\\Anaconda3\\lib\\site-packages\\langchain\\llms\\openai.py:716: UserWarning: You are trying to use a chat model. This way of initializing it is no longer supported. Instead, please use: `from langchain.chat_models import ChatOpenAI`\n",
      "  warnings.warn(\n"
     ]
    }
   ],
   "source": [
    "os.environ['GPLACES_API_KEY'] = api_keys['GPLACES_API_KEY']\n",
    "os.environ['OPENAI_API_KEY'] = api_keys['OPENAI_API_KEY']\n",
    "\n",
    "places = GooglePlacesTool()\n",
    "embeddings = OpenAIEmbeddings()\n",
    "\n",
    "llm = OpenAI(model_name='gpt-3.5-turbo')\n",
    "conv = ConversationChain(\n",
    "    llm=llm,\n",
    "    verbose = False\n",
    ")"
   ]
  },
  {
   "cell_type": "code",
   "execution_count": 5,
   "metadata": {},
   "outputs": [
    {
     "data": {
      "text/plain": [
       "0.3003544489820385"
      ]
     },
     "execution_count": 5,
     "metadata": {},
     "output_type": "execute_result"
    }
   ],
   "source": [
    "np.linalg.norm(\n",
    "    np.array(embeddings.embed_query('Marcel Meyer'))-\n",
    "    np.array(embeddings.embed_query('Marcel Mayer'))\n",
    ")"
   ]
  },
  {
   "cell_type": "code",
   "execution_count": 6,
   "metadata": {},
   "outputs": [
    {
     "data": {
      "text/plain": [
       "'1. Siemens Healthineers\\nAddress: Ludwig-Erhard-Straße 12, 65760 Eschborn, Germany\\nPhone: 06196 77131111\\nWebsite: https://www.siemens-healthineers.com/de/laboratory-diagnostics\\n\\n\\n2. Siemens Healthcare Diagnostics Products GmbH\\nAddress: Am Kronberger Hang 3B, 65824 Schwalbach am Taunus, Germany\\nPhone: 06196 806300\\nWebsite: http://www.healthcare.siemens.de/laboratory-diagnostics\\n\\n\\n3. Siemens Healthineers DiagnosticsProducts GmbH\\nAddress: Antwerpener Str. 1, 47229 Duisburg, Germany\\nPhone: Unknown\\nWebsite: Unknown\\n\\n\\n4. Siemens Healthineers\\nAddress: Emil-von-Behring-Straße 76, 35041 Marburg, Germany\\nPhone: Unknown\\nWebsite: Unknown\\n\\n\\n5. Siemens Healthineers - Corporate Headquarters\\nAddress: Henkestraße 127, 91052 Erlangen, Germany\\nPhone: 0800 1881885\\nWebsite: https://www.siemens-healthineers.com/de\\n\\n\\n6. Siemens Healthineers AG\\nAddress: Hartmannstraße 16, 91052 Erlangen, Germany\\nPhone: 09131 840\\nWebsite: http://www.healthcare.siemens.com/\\n\\n\\n7. Siemens Healthineers\\nAddress: Hofmannstraße 26, 91052 Erlangen, Germany\\nPhone: Unknown\\nWebsite: http://www.siemens-healthineers.com/\\n\\n'"
      ]
     },
     "execution_count": 6,
     "metadata": {},
     "output_type": "execute_result"
    }
   ],
   "source": [
    "places.run('siemens healthineers')"
   ]
  },
  {
   "cell_type": "code",
   "execution_count": 16,
   "metadata": {},
   "outputs": [],
   "source": [
    "prompt = '''\n",
    "I will you provide you with two lists of customer names. Can you deduplicate them and show me a final merged list? I only want to deduplicate extact matches.\n",
    "\n",
    "L1: \n",
    "Jan-Lucas Deinhard\n",
    "Cornelia Fridmann\n",
    "Barack Obama\n",
    "Marcel Meyer\n",
    "Tony DeLano\n",
    "\n",
    "L2:\n",
    "Tom Sawyer\n",
    "Alisa Artizada\n",
    "Marcel Meier\n",
    "Jan-Lucas Deinhard\n",
    "Tony Delano\n",
    "\n",
    "Please pay close attention to capitalization and the extact letters, and sort the final list in alphabetical order by last names.\n",
    "'''"
   ]
  },
  {
   "cell_type": "code",
   "execution_count": 17,
   "metadata": {},
   "outputs": [
    {
     "name": "stdout",
     "output_type": "stream",
     "text": [
      "Certainly, I can deduplicate the list of customer names based on exact matches and merge them into one final sorted list. Based on the two provided lists, the merged list would be:\n",
      "\n",
      "Alisa Artizada\n",
      "Jan-Lucas Deinhard\n",
      "Cornelia Fridmann\n",
      "Barack Obama\n",
      "Marcel Meier\n",
      "Tony Delano\n",
      "Tom Sawyer\n",
      "\n",
      "I sorted the final list in alphabetical order by last names, as per your instructions. Let me know if you need any further assistance.\n"
     ]
    }
   ],
   "source": [
    "response = conv.predict(input=prompt)\n",
    "\n",
    "print(response)"
   ]
  },
  {
   "cell_type": "code",
   "execution_count": 7,
   "metadata": {},
   "outputs": [],
   "source": [
    "from langchain import PromptTemplate"
   ]
  },
  {
   "cell_type": "code",
   "execution_count": 14,
   "metadata": {},
   "outputs": [],
   "source": [
    "prompt = PromptTemplate(\n",
    "    input_variables=['List1','List2'],\n",
    "    template='''\n",
    "        I will you provide you with two lists of customer names. Can you merge both lists for me?\n",
    "\n",
    "        L1: \n",
    "        {List1}\n",
    "        \n",
    "        L2:\n",
    "        {List2}\n",
    "\n",
    "        Please pay close attention to capitalization and the extact letters, and sort the final list in alphabetical order by last names.\n",
    "    '''\n",
    ")"
   ]
  },
  {
   "cell_type": "code",
   "execution_count": 15,
   "metadata": {},
   "outputs": [
    {
     "name": "stdout",
     "output_type": "stream",
     "text": [
      "Certainly, I can merge both lists for you. The final merged list, sorted by last names in alphabetical order, is:\n",
      "\n",
      "Alisa Artizada\n",
      "Cornelia Fridmann\n",
      "Barack Obama\n",
      "Tom Sawyer\n",
      "Jan-Lucas Deinhard\n",
      "Marcel Meier\n",
      "Marcel Meyer\n",
      "Tony DeLano\n",
      "\n",
      "I combined both lists without any duplicates, paying attention to capitalization and exact letters, and sorted the final list as requested. Is there anything else you would like me to do?\n"
     ]
    }
   ],
   "source": [
    "response = conv.predict(\n",
    "    input=prompt.format(\n",
    "        List1='Jan-Lucas Deinhard,Cornelia Fridmann,Barack Obama,Marcel Meyer,Tony DeLano',\n",
    "        List2='Tom Sawyer,Alisa Artizada,Marcel Meier,Jan-Lucas Deinhard,Tony Delano'\n",
    "    )\n",
    ")\n",
    "\n",
    "print(response)"
   ]
  },
  {
   "cell_type": "code",
   "execution_count": null,
   "metadata": {},
   "outputs": [],
   "source": []
  }
 ],
 "metadata": {
  "kernelspec": {
   "display_name": "base",
   "language": "python",
   "name": "python3"
  },
  "language_info": {
   "codemirror_mode": {
    "name": "ipython",
    "version": 3
   },
   "file_extension": ".py",
   "mimetype": "text/x-python",
   "name": "python",
   "nbconvert_exporter": "python",
   "pygments_lexer": "ipython3",
   "version": "3.8.5"
  },
  "orig_nbformat": 4
 },
 "nbformat": 4,
 "nbformat_minor": 2
}
