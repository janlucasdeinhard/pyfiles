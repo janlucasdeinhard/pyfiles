{
 "cells": [
  {
   "attachments": {},
   "cell_type": "markdown",
   "metadata": {},
   "source": [
    "# Description\n",
    "This notebook is intended to develop and showcase a framework for making neural network architectures which are trained and specialized to different tasks comparable in a unified way. The core problem to be overcome is the multitude of different datasets which might be used to train different networks. I still want to be able to compare the trained network _in a task-independent manner_."
   ]
  },
  {
   "cell_type": "code",
   "execution_count": 80,
   "metadata": {},
   "outputs": [],
   "source": [
    "# Imports\n",
    "import numpy as np \n",
    "from numpy import random as rnd \n",
    "from matplotlib import pyplot as plt \n",
    "import warnings,sys,os,datetime,time,itertools,math \n",
    "\n",
    "import pandas as pd \n",
    "\n",
    "import torch \n",
    "import torch.nn as nn\n",
    "from torch.nn import functional as F\n",
    "import torch.optim as optim\n",
    "\n",
    "from sklearn.model_selection import train_test_split\n",
    "from sklearn.datasets import load_digits\n",
    "from sklearn.preprocessing import OneHotEncoder"
   ]
  },
  {
   "attachments": {},
   "cell_type": "markdown",
   "metadata": {},
   "source": [
    "# Load full MNIST dataset"
   ]
  },
  {
   "cell_type": "code",
   "execution_count": 230,
   "metadata": {},
   "outputs": [],
   "source": [
    "D = load_digits()\n",
    "\n",
    "Xfull,yfull = D['data'],D['target']\n",
    "\n",
    "Xfull = np.repeat(Xfull,100,0)\n",
    "yfull = np.repeat(yfull,100,0)"
   ]
  },
  {
   "attachments": {},
   "cell_type": "markdown",
   "metadata": {},
   "source": [
    "## Visualization of the Data\n",
    "First take a random sample of the data and visualize it. Take a 9-by-9 grid to plot some numbers."
   ]
  },
  {
   "cell_type": "code",
   "execution_count": 231,
   "metadata": {},
   "outputs": [
    {
     "data": {
      "image/png": "[encoded data removed]",
      "text/plain": [
       "<Figure size 720x720 with 9 Axes>"
      ]
     },
     "metadata": {
      "needs_background": "light"
     },
     "output_type": "display_data"
    }
   ],
   "source": [
    "rnd.seed(1)\n",
    "\n",
    "# Select a random set of indices for visualization\n",
    "sample_ids = rnd.permutation(np.arange(yfull.shape[0]))[:9]\n",
    "\n",
    "# Grab the corresponding images and labels\n",
    "samples = Xfull[sample_ids]\n",
    "sample_names = yfull[sample_ids]\n",
    "\n",
    "# Create figure and a 9-by-9 grid of subplots\n",
    "fig,ax = plt.subplots(nrows=3,ncols=3,figsize=(10,10))\n",
    "\n",
    "# Iterate subplots\n",
    "ctr = 0\n",
    "for m in range(3):\n",
    "    for n in range(3):\n",
    "        ax[m,n].imshow(samples[ctr].reshape(8,8))\n",
    "        ax[m,n].set_title('Target Number: {0}'.format(sample_names[ctr]))\n",
    "        ctr += 1\n",
    "\n",
    "# Show result\n",
    "plt.show()"
   ]
  },
  {
   "attachments": {},
   "cell_type": "markdown",
   "metadata": {},
   "source": [
    "## Generate the training and test sets\n",
    "This step has to be managed carefully to maintain comparability."
   ]
  },
  {
   "cell_type": "code",
   "execution_count": 232,
   "metadata": {},
   "outputs": [],
   "source": [
    "# Train-test split\n",
    "X,Xtest,y,ytest = train_test_split(Xfull,yfull,test_size=0.25,shuffle=True)\n",
    "\n",
    "# OneHot-encode the targets\n",
    "ohe = OneHotEncoder()\n",
    "y_ohe = ohe.fit_transform(y.reshape(-1,1)).todense()\n",
    "ytest_ohe = ohe.transform(ytest.reshape(-1,1)).todense()"
   ]
  },
  {
   "attachments": {},
   "cell_type": "markdown",
   "metadata": {},
   "source": [
    "# Network setup and Training Step\n",
    "Create a simple CNN to train on the MNIST set. Perform simple training loop."
   ]
  },
  {
   "cell_type": "code",
   "execution_count": 233,
   "metadata": {},
   "outputs": [],
   "source": [
    "class Net(nn.Module):\n",
    "    # Main Function\n",
    "    def __init__(self):\n",
    "        super(Net, self).__init__()\n",
    "        self.conv1 = nn.Conv2d(1,6,2)\n",
    "        self.conv2 = nn.Conv2d(6,16,2)\n",
    "        self.fc1 = nn.Linear(16*2*2,120)\n",
    "        self.fc2 = nn.Linear(120,84)\n",
    "        self.fc3 = nn.Linear(84,10)\n",
    "    # Forward pass\n",
    "    def forward(self, x):\n",
    "        x = F.relu(self.conv1(x))\n",
    "        x = F.max_pool2d(x,(2,2))\n",
    "        x = F.relu(self.conv2(x))\n",
    "        x = F.max_pool2d(x,(1,1))\n",
    "        x = torch.flatten(x,1)\n",
    "        x = F.relu(self.fc1(x))\n",
    "        x = F.relu(self.fc2(x))\n",
    "        x = F.softmax(self.fc3(x),dim=1)\n",
    "        return x"
   ]
  },
  {
   "cell_type": "code",
   "execution_count": 234,
   "metadata": {},
   "outputs": [],
   "source": [
    "# Parameters\n",
    "batchsize = 3\n",
    "learning_rate = 1e-2\n",
    "\n",
    "# Instantiate the network\n",
    "net = Net()\n",
    "\n",
    "# Set up the optimizer\n",
    "optimizer = optim.Adam(net.parameters(),lr=learning_rate)\n",
    "\n",
    "# Mean Square Loss\n",
    "loss_fn = nn.MSELoss()"
   ]
  },
  {
   "cell_type": "code",
   "execution_count": 235,
   "metadata": {},
   "outputs": [],
   "source": [
    "training_losses = []\n",
    "\n",
    "for idx in range(0,X.shape[0],3):\n",
    "    # Batch of images\n",
    "    Xbatch = X[idx:idx+batchsize].reshape(-1,8,8)\n",
    "    Xbatch_t = torch.from_numpy(Xbatch).reshape(-1,1,8,8).float()\n",
    "    # Corresponding targets\n",
    "    Ytarget_t = torch.from_numpy(y_ohe[idx:idx+batchsize]).float()\n",
    "\n",
    "    # Model output\n",
    "    Ybatch_t = net.forward(Xbatch_t)\n",
    "\n",
    "    # Prepare the optimizer\n",
    "    optimizer.zero_grad()\n",
    "\n",
    "    # Calculate the loss\n",
    "    loss = loss_fn(Ybatch_t,Ytarget_t)\n",
    "\n",
    "    # Propagate the loss\n",
    "    loss.backward()\n",
    "    optimizer.step()\n",
    "\n",
    "    training_losses.append(loss.detach().numpy().flatten()[0])"
   ]
  },
  {
   "cell_type": "code",
   "execution_count": 236,
   "metadata": {},
   "outputs": [
    {
     "data": {
      "text/plain": [
       "[<matplotlib.lines.Line2D at 0x7fedf97d5b20>]"
      ]
     },
     "execution_count": 236,
     "metadata": {},
     "output_type": "execute_result"
    },
    {
     "data": {
      "image/png": "[encoded data removed]",
      "text/plain": [
       "<Figure size 432x288 with 1 Axes>"
      ]
     },
     "metadata": {
      "needs_background": "light"
     },
     "output_type": "display_data"
    }
   ],
   "source": [
    "plt.plot(training_losses)"
   ]
  },
  {
   "cell_type": "code",
   "execution_count": null,
   "metadata": {},
   "outputs": [],
   "source": []
  }
 ],
 "metadata": {
  "kernelspec": {
   "display_name": "base",
   "language": "python",
   "name": "python3"
  },
  "language_info": {
   "codemirror_mode": {
    "name": "ipython",
    "version": 3
   },
   "file_extension": ".py",
   "mimetype": "text/x-python",
   "name": "python",
   "nbconvert_exporter": "python",
   "pygments_lexer": "ipython3",
   "version": "3.8.5"
  },
  "orig_nbformat": 4
 },
 "nbformat": 4,
 "nbformat_minor": 2
}
