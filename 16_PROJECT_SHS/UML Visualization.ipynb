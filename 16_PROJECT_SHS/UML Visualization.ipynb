{
 "cells": [
  {
   "cell_type": "code",
   "execution_count": 89,
   "metadata": {},
   "outputs": [],
   "source": [
    "# Imports\n",
    "\n",
    "import numpy as np\n",
    "from numpy import random as rnd\n",
    "from matplotlib import pyplot as plt\n",
    "import datetime,time,warnings,itertools,sys,os,math,platform\n",
    "\n",
    "import pandas as pd"
   ]
  },
  {
   "cell_type": "code",
   "execution_count": 90,
   "metadata": {},
   "outputs": [],
   "source": [
    "# list rL = flatten_list(list L)\n",
    "# Function which takes in an arbitrarily nested list and returns a flattened version of it\n",
    "def flatten_list(L):\n",
    "    rL = []\n",
    "    for item in L:\n",
    "        if type(item) is list:\n",
    "            itemL = flatten_list(item)\n",
    "        else:\n",
    "            itemL = [item]\n",
    "        for x in itemL:\n",
    "            rL.append(x)\n",
    "    return rL"
   ]
  },
  {
   "cell_type": "code",
   "execution_count": 91,
   "metadata": {},
   "outputs": [],
   "source": [
    "# System-dependent configuration of read path\n",
    "\n",
    "if platform.system()=='Darwin':\n",
    "    path = './Users/janlucasdeinhard/Dropbox/PhD Prep/SHS DQ/'\n",
    "else:\n",
    "    path = '<tbd>'\n",
    "path += 'CompetencyQueries.sql'"
   ]
  },
  {
   "cell_type": "code",
   "execution_count": 165,
   "metadata": {},
   "outputs": [],
   "source": [
    "# Read in SQL file\n",
    "with open(path,'r') as fd: queries = fd.read()"
   ]
  },
  {
   "cell_type": "code",
   "execution_count": 175,
   "metadata": {},
   "outputs": [],
   "source": [
    "# Preprocessing\n",
    "\n",
    "# Map out the known problems\n",
    "queries = queries.replace('DATAITEM','DATA_ITEMS')\n",
    "queries = queries.replace('TECHNICAL_SYSTEMS_STATUS','TECHNICAL_SYSTEM_STATUS')\n",
    "queries = queries.replace('DQ_METRIC_INSTANCES','DQ_METRIC_INSTANCE')\n",
    "queries = queries.replace('ITEMSS','ITEMS')\n",
    "\n",
    "# List of queries\n",
    "qlist = [k[k.find('SELECT'):] for k in queries.split('\\n\\n')]\n",
    "# Flattened list of all lines\n",
    "f_qlist = flatten_list([q.split('\\n') for q in qlist])"
   ]
  },
  {
   "cell_type": "code",
   "execution_count": 176,
   "metadata": {},
   "outputs": [],
   "source": [
    "# List of all keywords which will be targeted\n",
    "keywords = [\n",
    "    'SELECT',\n",
    "    'FROM',\n",
    "    'WHERE',\n",
    "    'JOIN',\n",
    "    'GROUP BY',\n",
    "    'ORDER BY',\n",
    "    ' ON '\n",
    "]\n",
    "\n",
    "# Dictionary to map all keywords to what subsequent data structure it points to\n",
    "statement_pointer_type = {\n",
    "    'SELECT':'COLUMN',\n",
    "    'FROM':'TABLE',\n",
    "    'WHERE':'COLUMN',\n",
    "    'JOIN':'TABLE',\n",
    "    'GROUP BY':'COLUMN',\n",
    "    'ORDER BY':'COLUMN',\n",
    "    ' ON ':'COLUMN'\n",
    "}"
   ]
  },
  {
   "cell_type": "code",
   "execution_count": 177,
   "metadata": {},
   "outputs": [],
   "source": [
    "# Iterate all queries\n",
    "\n",
    "# Final data frame\n",
    "df = pd.DataFrame()\n",
    "\n",
    "# Iterate all queries and decompose\n",
    "ctr = 0\n",
    "for q in qlist:\n",
    "    try:\n",
    "        q = q.replace('LEFT JOIN','JOIN').replace('RIGHT JOIN','JOIN').replace('FULL OUTER JOIN','JOIN').replace('INNER JOIN','JOIN')\n",
    "        #q = q.replace('\\n','').replace('\\t','')\n",
    "        # Create dataframe containing all start positions of keywords\n",
    "        tf = pd.DataFrame([(k,q.find(k)) for k in keywords if q.find(k)!=-1]).sort_values(by=1,ascending=True).rename(columns={\n",
    "            0:'Keyword',\n",
    "            1:'Start Position'\n",
    "        })\n",
    "        # Determine end position of target string as start position of next keyword\n",
    "        tf['End Position'] = tf['Start Position'].shift(-1).fillna(-1).astype(int)\n",
    "        # Cut out string\n",
    "        tf['Value'] = tf[['Keyword','Start Position','End Position']].apply(lambda x: \n",
    "            q[x['Start Position']:x['End Position']].replace(x['Keyword'],'').strip().replace('\\n','').replace('\\t','')\n",
    "        ,axis=1)\n",
    "        # Drop unnecessary columns\n",
    "        tf = tf.drop(columns=['Start Position','End Position'])\n",
    "        # Attach query ID\n",
    "        tf['QueryID'] = ctr\n",
    "        tf['Original Query'] = q\n",
    "        # Attach to full data frame\n",
    "        df = pd.concat([df,tf],axis=0)\n",
    "    except:\n",
    "        continue    \n",
    "    # Count up\n",
    "    ctr += 1\n",
    "# Create index\n",
    "df = df.reset_index(drop=True)"
   ]
  },
  {
   "cell_type": "code",
   "execution_count": 178,
   "metadata": {},
   "outputs": [],
   "source": [
    "# Post-processing\n",
    "\n",
    "# Attach Value Type\n",
    "df['Value Type'] = df['Keyword'].map(statement_pointer_type)\n",
    "# Identify sub-queries\n",
    "df['Value Type'] = df[['Keyword','Value','Value Type']].apply(lambda x: 'SUBQUERY' if x['Keyword']=='FROM' and 'SELECT' in x['Value'] else x['Value Type'],axis=1)\n",
    "# Drop table names\n",
    "df['Value'] = df[['Value','Value Type']].apply(lambda x: x['Value'].split(' ')[0] if x['Value Type']=='TABLE' else x['Value'],axis=1)"
   ]
  },
  {
   "cell_type": "code",
   "execution_count": 179,
   "metadata": {},
   "outputs": [
    {
     "data": {
      "text/plain": [
       "1                        MATCH_TABLE\n",
       "10                     DQ_VIOLATIONS\n",
       "11                DQ_METRIC_INSTANCE\n",
       "15    DATA_ITEMS_TO_TECHNICAL_SYSTEM\n",
       "16                 TECHNICAL_SYSTEMS\n",
       "21                        DATA_ITEMS\n",
       "26    DATA_ITEMS_TECHNICAL_REFERENCE\n",
       "29       METADATA.VALIDATION_QUERIES\n",
       "34           TECHNICAL_SYSTEM_STATUS\n",
       "45     TECHNICAL_METADATA_DATA_ITEMS\n",
       "68         TECHNICAL_SYSTEMS_PROBLEM\n",
       "71              DATA_ITEMS_TO_TABELS\n",
       "72                   METADATA.TABLES\n",
       "76         INTERNAL_REFERENCE_POINTS\n",
       "79         EXTERNAL_REFERENCE_POINTS\n",
       "82      DQ_AGGREGATE_SCORE_PER_SCOPE\n",
       "85         DQ_METRIC_INSTANCE_RESULT\n",
       "90                         DQ_METRIC\n",
       "Name: Value, dtype: object"
      ]
     },
     "execution_count": 179,
     "metadata": {},
     "output_type": "execute_result"
    }
   ],
   "source": [
    "df[df['Value Type']=='TABLE']['Value'].drop_duplicates()"
   ]
  },
  {
   "cell_type": "code",
   "execution_count": null,
   "metadata": {},
   "outputs": [],
   "source": []
  },
  {
   "cell_type": "code",
   "execution_count": null,
   "metadata": {},
   "outputs": [],
   "source": []
  },
  {
   "cell_type": "code",
   "execution_count": null,
   "metadata": {},
   "outputs": [],
   "source": []
  },
  {
   "cell_type": "code",
   "execution_count": null,
   "metadata": {},
   "outputs": [],
   "source": []
  },
  {
   "cell_type": "code",
   "execution_count": null,
   "metadata": {},
   "outputs": [],
   "source": []
  },
  {
   "attachments": {},
   "cell_type": "markdown",
   "metadata": {},
   "source": [
    "```mermaid\n",
    "classDiagram\n",
    "  DATA_ITEM -- DATA_ITEM_TO_TECHNICAL_SYSTEM\n",
    "  TECHNICAL_SYSTEM -- DATA_ITEM_TO_TECHNICAL_SYSTEM\n",
    "   class MATCH_TABLE {\n",
    "      +str Entity\n",
    "      +str System A Path\n",
    "      +str System B Path\n",
    "      +str Matching Method\n",
    "      +str Segmentation Type\n",
    "      +str Segment\n",
    "      +TS Status Timestamp\n",
    "      +int Matched Instances Count\n",
    "    }\n",
    "    class DATA_ITEM {\n",
    "      +key Data Item ID\n",
    "      +fkey Leading System ID[TECHNICAL_SYSTEM]\n",
    "      +str Data Item Name\n",
    "      +str Data Item Owner\n",
    "      +str Data Domain\n",
    "      +str Certification Source Type\n",
    "      +str Certification Source Entry\n",
    "      +str Certification\n",
    "      +str Record Start Date\n",
    "      +str Record End Date\n",
    "    }\n",
    "    class TECHNICAL_SYSTEM {\n",
    "      +key Technical System ID\n",
    "      +str Technical System Name\n",
    "      +str System Type\n",
    "    }\n",
    "    class DATA_ITEM_TO_TECHNICAL_SYSTEM {\n",
    "      +fkey Data Item ID[DATA_ITEM]\n",
    "      +fkey Technical System ID[TECHNICAL_SYSTEM]\n",
    "      +TS Record Start Date\n",
    "      +TS Record End Date\n",
    "    }\n",
    "```"
   ]
  },
  {
   "cell_type": "markdown",
   "metadata": {},
   "source": []
  }
 ],
 "metadata": {
  "kernelspec": {
   "display_name": "Python 3",
   "language": "python",
   "name": "python3"
  },
  "language_info": {
   "codemirror_mode": {
    "name": "ipython",
    "version": 3
   },
   "file_extension": ".py",
   "mimetype": "text/x-python",
   "name": "python",
   "nbconvert_exporter": "python",
   "pygments_lexer": "ipython3",
   "version": "3.8.5"
  },
  "orig_nbformat": 4
 },
 "nbformat": 4,
 "nbformat_minor": 2
}
