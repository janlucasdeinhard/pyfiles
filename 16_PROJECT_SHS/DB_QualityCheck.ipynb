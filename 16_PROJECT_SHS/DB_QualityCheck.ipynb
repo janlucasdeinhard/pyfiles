{
  "cells": [
    {
      "cell_type": "markdown",
      "metadata": {
        "id": "view-in-github",
        "colab_type": "text"
      },
      "source": [
        "<a href=\"https://colab.research.google.com/github/janlucasdeinhard/pyfiles/blob/master/DB_QualityCheck.ipynb\" target=\"_parent\"><img src=\"https://colab.research.google.com/assets/colab-badge.svg\" alt=\"Open In Colab\"/></a>"
      ]
    },
    {
      "cell_type": "code",
      "execution_count": 1,
      "metadata": {
        "id": "sVaSGpAi9f-a"
      },
      "outputs": [],
      "source": [
        "import numpy as np\n",
        "from numpy import random as rnd\n",
        "from matplotlib import pyplot as plt\n",
        "import warnings,datetime,time,math,itertools,os,sys\n",
        "\n",
        "import torch\n",
        "import torch.nn as nn\n",
        "from torch.nn import functional as F\n",
        "\n",
        "from tensorflow.keras.models import Model,Sequential\n",
        "from tensorflow.keras.layers import Dense,LSTM,Activation,Dropout,BatchNormalization,Concatenate,Input\n",
        "from tensorflow.keras.regularizers import l2\n",
        "\n",
        "import pandas as pd\n",
        "\n",
        "import snowflake.connector\n",
        "\n",
        "import plotly as pl"
      ]
    },
    {
      "cell_type": "code",
      "execution_count": 2,
      "metadata": {
        "colab": {
          "base_uri": "https://localhost:8080/",
          "height": 608
        },
        "id": "3lajTmR59f-e",
        "outputId": "f28dfc68-eba3-456c-c3e6-ca91de99500c"
      },
      "outputs": [
        {
          "output_type": "stream",
          "name": "stdout",
          "text": [
            "Initiating login request with your identity provider. A browser window should have opened for you to complete the login. If you can't see it, check existing browser windows, or your OS settings. Press CTRL+C to abort and try again...\n",
            "We were unable to open a browser window for you, please open the following url manually then paste the URL you are redirected to into the terminal.\n",
            "URL: https://login.microsoftonline.com/5dbf1add-202a-4b8d-815b-bf0fb024e033/saml2?SAMLRequest=nZJbc5swEIX%2FCqM%2BAwLfNbYzTmxPGOfiGtJO%2BybQYmsMEpVEcPLrK7A9kz4kD33TSGf3O9qz05tTWTivoDSXYoYCDyMHRCYZF%2FsZeknW7hg52lDBaCEFzNAbaHQzn2paFhVZ1OYgdvCnBm0c20ho0j7MUK0EkVRzTQQtQROTkXjx%2BEBCDxOqNShjcehSwjS3rIMxFfH9pmm8pudJtfdDjLGPJ75VtZJv6AOi%2BppRKWlkJotrycn%2B6RNE4ON%2Bi7AKS9heCm%2B5OI%2FgK0p6FmlynyRbd%2FscJ8hZXH93J4WuS1AxqFeewcvu4WxAWwfxfRwlywevsXNzoVayAo%2B%2B1wo8LWSTF%2FQImSyr2tjunj35OTC%2FkHtuZxYtZ6g6crb5SVf5kJ76g8Nwc6xGW%2FaMV796I%2Fp9sruNN4vHan14T1U0glWGnB%2FXhMM24UjrGiLR5mrsFQ5DF%2FfcYJIEQxJiEvS9YDD5jZyl9ccFNV3l1Xznwyt5pqSWuZGi4AI6lwOW5gFlzLUdqdtPx8wdB4PUTXOcpzjsA%2B71%2FDa9EJ03iHRG1Px%2F5zL1P3a5LOWTzSlabmXBszdnLVVJzecxBl7Q3XDm5p2UQEl5sWBMgdY2zqKQzZ0CauzuG1UD8udn6r%2FbP%2F8L&RelayState=45455\n"
          ]
        },
        {
          "output_type": "error",
          "ename": "KeyboardInterrupt",
          "evalue": "ignored",
          "traceback": [
            "\u001b[0;31m---------------------------------------------------------------------------\u001b[0m",
            "\u001b[0;31mKeyboardInterrupt\u001b[0m                         Traceback (most recent call last)",
            "\u001b[0;32m/usr/local/lib/python3.7/dist-packages/ipykernel/kernelbase.py\u001b[0m in \u001b[0;36m_input_request\u001b[0;34m(self, prompt, ident, parent, password)\u001b[0m\n\u001b[1;32m    728\u001b[0m             \u001b[0;32mtry\u001b[0m\u001b[0;34m:\u001b[0m\u001b[0;34m\u001b[0m\u001b[0;34m\u001b[0m\u001b[0m\n\u001b[0;32m--> 729\u001b[0;31m                 \u001b[0mident\u001b[0m\u001b[0;34m,\u001b[0m \u001b[0mreply\u001b[0m \u001b[0;34m=\u001b[0m \u001b[0mself\u001b[0m\u001b[0;34m.\u001b[0m\u001b[0msession\u001b[0m\u001b[0;34m.\u001b[0m\u001b[0mrecv\u001b[0m\u001b[0;34m(\u001b[0m\u001b[0mself\u001b[0m\u001b[0;34m.\u001b[0m\u001b[0mstdin_socket\u001b[0m\u001b[0;34m,\u001b[0m \u001b[0;36m0\u001b[0m\u001b[0;34m)\u001b[0m\u001b[0;34m\u001b[0m\u001b[0;34m\u001b[0m\u001b[0m\n\u001b[0m\u001b[1;32m    730\u001b[0m             \u001b[0;32mexcept\u001b[0m \u001b[0mException\u001b[0m\u001b[0;34m:\u001b[0m\u001b[0;34m\u001b[0m\u001b[0;34m\u001b[0m\u001b[0m\n",
            "\u001b[0;32m/usr/local/lib/python3.7/dist-packages/jupyter_client/session.py\u001b[0m in \u001b[0;36mrecv\u001b[0;34m(self, socket, mode, content, copy)\u001b[0m\n\u001b[1;32m    802\u001b[0m         \u001b[0;32mtry\u001b[0m\u001b[0;34m:\u001b[0m\u001b[0;34m\u001b[0m\u001b[0;34m\u001b[0m\u001b[0m\n\u001b[0;32m--> 803\u001b[0;31m             \u001b[0mmsg_list\u001b[0m \u001b[0;34m=\u001b[0m \u001b[0msocket\u001b[0m\u001b[0;34m.\u001b[0m\u001b[0mrecv_multipart\u001b[0m\u001b[0;34m(\u001b[0m\u001b[0mmode\u001b[0m\u001b[0;34m,\u001b[0m \u001b[0mcopy\u001b[0m\u001b[0;34m=\u001b[0m\u001b[0mcopy\u001b[0m\u001b[0;34m)\u001b[0m\u001b[0;34m\u001b[0m\u001b[0;34m\u001b[0m\u001b[0m\n\u001b[0m\u001b[1;32m    804\u001b[0m         \u001b[0;32mexcept\u001b[0m \u001b[0mzmq\u001b[0m\u001b[0;34m.\u001b[0m\u001b[0mZMQError\u001b[0m \u001b[0;32mas\u001b[0m \u001b[0me\u001b[0m\u001b[0;34m:\u001b[0m\u001b[0;34m\u001b[0m\u001b[0;34m\u001b[0m\u001b[0m\n",
            "\u001b[0;32m/usr/local/lib/python3.7/dist-packages/zmq/sugar/socket.py\u001b[0m in \u001b[0;36mrecv_multipart\u001b[0;34m(self, flags, copy, track)\u001b[0m\n\u001b[1;32m    624\u001b[0m         \"\"\"\n\u001b[0;32m--> 625\u001b[0;31m         \u001b[0mparts\u001b[0m \u001b[0;34m=\u001b[0m \u001b[0;34m[\u001b[0m\u001b[0mself\u001b[0m\u001b[0;34m.\u001b[0m\u001b[0mrecv\u001b[0m\u001b[0;34m(\u001b[0m\u001b[0mflags\u001b[0m\u001b[0;34m,\u001b[0m \u001b[0mcopy\u001b[0m\u001b[0;34m=\u001b[0m\u001b[0mcopy\u001b[0m\u001b[0;34m,\u001b[0m \u001b[0mtrack\u001b[0m\u001b[0;34m=\u001b[0m\u001b[0mtrack\u001b[0m\u001b[0;34m)\u001b[0m\u001b[0;34m]\u001b[0m\u001b[0;34m\u001b[0m\u001b[0;34m\u001b[0m\u001b[0m\n\u001b[0m\u001b[1;32m    626\u001b[0m         \u001b[0;31m# have first part already, only loop while more to receive\u001b[0m\u001b[0;34m\u001b[0m\u001b[0;34m\u001b[0m\u001b[0;34m\u001b[0m\u001b[0m\n",
            "\u001b[0;32mzmq/backend/cython/socket.pyx\u001b[0m in \u001b[0;36mzmq.backend.cython.socket.Socket.recv\u001b[0;34m()\u001b[0m\n",
            "\u001b[0;32mzmq/backend/cython/socket.pyx\u001b[0m in \u001b[0;36mzmq.backend.cython.socket.Socket.recv\u001b[0;34m()\u001b[0m\n",
            "\u001b[0;32mzmq/backend/cython/socket.pyx\u001b[0m in \u001b[0;36mzmq.backend.cython.socket._recv_copy\u001b[0;34m()\u001b[0m\n",
            "\u001b[0;32m/usr/local/lib/python3.7/dist-packages/zmq/backend/cython/checkrc.pxd\u001b[0m in \u001b[0;36mzmq.backend.cython.checkrc._check_rc\u001b[0;34m()\u001b[0m\n",
            "\u001b[0;31mKeyboardInterrupt\u001b[0m: ",
            "\nDuring handling of the above exception, another exception occurred:\n",
            "\u001b[0;31mKeyboardInterrupt\u001b[0m                         Traceback (most recent call last)",
            "\u001b[0;32m<ipython-input-2-50336c743e89>\u001b[0m in \u001b[0;36m<module>\u001b[0;34m()\u001b[0m\n\u001b[1;32m      2\u001b[0m     \u001b[0muser\u001b[0m\u001b[0;34m=\u001b[0m\u001b[0;34m'jan-lucas.deinhard@siemens-healthineers.com'\u001b[0m\u001b[0;34m,\u001b[0m\u001b[0;34m\u001b[0m\u001b[0;34m\u001b[0m\u001b[0m\n\u001b[1;32m      3\u001b[0m     \u001b[0maccount\u001b[0m\u001b[0;34m=\u001b[0m\u001b[0;34m'shsitdl.west-europe.azure'\u001b[0m\u001b[0;34m,\u001b[0m\u001b[0;34m\u001b[0m\u001b[0;34m\u001b[0m\u001b[0m\n\u001b[0;32m----> 4\u001b[0;31m     \u001b[0mauthenticator\u001b[0m\u001b[0;34m=\u001b[0m\u001b[0;34m'externalbrowser'\u001b[0m\u001b[0;34m\u001b[0m\u001b[0;34m\u001b[0m\u001b[0m\n\u001b[0m\u001b[1;32m      5\u001b[0m )\n",
            "\u001b[0;32m/usr/local/lib/python3.7/dist-packages/snowflake/connector/__init__.py\u001b[0m in \u001b[0;36mConnect\u001b[0;34m(**kwargs)\u001b[0m\n\u001b[1;32m     49\u001b[0m \u001b[0;34m\u001b[0m\u001b[0m\n\u001b[1;32m     50\u001b[0m \u001b[0;32mdef\u001b[0m \u001b[0mConnect\u001b[0m\u001b[0;34m(\u001b[0m\u001b[0;34m**\u001b[0m\u001b[0mkwargs\u001b[0m\u001b[0;34m)\u001b[0m \u001b[0;34m->\u001b[0m \u001b[0mSnowflakeConnection\u001b[0m\u001b[0;34m:\u001b[0m\u001b[0;34m\u001b[0m\u001b[0;34m\u001b[0m\u001b[0m\n\u001b[0;32m---> 51\u001b[0;31m     \u001b[0;32mreturn\u001b[0m \u001b[0mSnowflakeConnection\u001b[0m\u001b[0;34m(\u001b[0m\u001b[0;34m**\u001b[0m\u001b[0mkwargs\u001b[0m\u001b[0;34m)\u001b[0m\u001b[0;34m\u001b[0m\u001b[0;34m\u001b[0m\u001b[0m\n\u001b[0m\u001b[1;32m     52\u001b[0m \u001b[0;34m\u001b[0m\u001b[0m\n\u001b[1;32m     53\u001b[0m \u001b[0;34m\u001b[0m\u001b[0m\n",
            "\u001b[0;32m/usr/local/lib/python3.7/dist-packages/snowflake/connector/connection.py\u001b[0m in \u001b[0;36m__init__\u001b[0;34m(self, **kwargs)\u001b[0m\n\u001b[1;32m    271\u001b[0m         \u001b[0mself\u001b[0m\u001b[0;34m.\u001b[0m\u001b[0mconverter\u001b[0m \u001b[0;34m=\u001b[0m \u001b[0;32mNone\u001b[0m\u001b[0;34m\u001b[0m\u001b[0;34m\u001b[0m\u001b[0m\n\u001b[1;32m    272\u001b[0m         \u001b[0mself\u001b[0m\u001b[0;34m.\u001b[0m\u001b[0m__set_error_attributes\u001b[0m\u001b[0;34m(\u001b[0m\u001b[0;34m)\u001b[0m\u001b[0;34m\u001b[0m\u001b[0;34m\u001b[0m\u001b[0m\n\u001b[0;32m--> 273\u001b[0;31m         \u001b[0mself\u001b[0m\u001b[0;34m.\u001b[0m\u001b[0mconnect\u001b[0m\u001b[0;34m(\u001b[0m\u001b[0;34m**\u001b[0m\u001b[0mkwargs\u001b[0m\u001b[0;34m)\u001b[0m\u001b[0;34m\u001b[0m\u001b[0;34m\u001b[0m\u001b[0m\n\u001b[0m\u001b[1;32m    274\u001b[0m         \u001b[0mself\u001b[0m\u001b[0;34m.\u001b[0m\u001b[0m_telemetry\u001b[0m \u001b[0;34m=\u001b[0m \u001b[0mTelemetryClient\u001b[0m\u001b[0;34m(\u001b[0m\u001b[0mself\u001b[0m\u001b[0;34m.\u001b[0m\u001b[0m_rest\u001b[0m\u001b[0;34m)\u001b[0m\u001b[0;34m\u001b[0m\u001b[0;34m\u001b[0m\u001b[0m\n\u001b[1;32m    275\u001b[0m         \u001b[0;31m# Some configuration files need to be updated here to make them testable\u001b[0m\u001b[0;34m\u001b[0m\u001b[0;34m\u001b[0m\u001b[0;34m\u001b[0m\u001b[0m\n",
            "\u001b[0;32m/usr/local/lib/python3.7/dist-packages/snowflake/connector/connection.py\u001b[0m in \u001b[0;36mconnect\u001b[0;34m(self, **kwargs)\u001b[0m\n\u001b[1;32m    492\u001b[0m             \u001b[0mTelemetryService\u001b[0m\u001b[0;34m.\u001b[0m\u001b[0mget_instance\u001b[0m\u001b[0;34m(\u001b[0m\u001b[0;34m)\u001b[0m\u001b[0;34m.\u001b[0m\u001b[0mupdate_context\u001b[0m\u001b[0;34m(\u001b[0m\u001b[0mkwargs\u001b[0m\u001b[0;34m)\u001b[0m\u001b[0;34m\u001b[0m\u001b[0;34m\u001b[0m\u001b[0m\n\u001b[1;32m    493\u001b[0m \u001b[0;34m\u001b[0m\u001b[0m\n\u001b[0;32m--> 494\u001b[0;31m         \u001b[0mself\u001b[0m\u001b[0;34m.\u001b[0m\u001b[0m__open_connection\u001b[0m\u001b[0;34m(\u001b[0m\u001b[0;34m)\u001b[0m\u001b[0;34m\u001b[0m\u001b[0;34m\u001b[0m\u001b[0m\n\u001b[0m\u001b[1;32m    495\u001b[0m \u001b[0;34m\u001b[0m\u001b[0m\n\u001b[1;32m    496\u001b[0m     \u001b[0;32mdef\u001b[0m \u001b[0mclose\u001b[0m\u001b[0;34m(\u001b[0m\u001b[0mself\u001b[0m\u001b[0;34m,\u001b[0m \u001b[0mretry\u001b[0m\u001b[0;34m=\u001b[0m\u001b[0;32mTrue\u001b[0m\u001b[0;34m)\u001b[0m\u001b[0;34m:\u001b[0m\u001b[0;34m\u001b[0m\u001b[0;34m\u001b[0m\u001b[0m\n",
            "\u001b[0;32m/usr/local/lib/python3.7/dist-packages/snowflake/connector/connection.py\u001b[0m in \u001b[0;36m__open_connection\u001b[0;34m(self)\u001b[0m\n\u001b[1;32m    731\u001b[0m         \u001b[0mauth\u001b[0m \u001b[0;34m=\u001b[0m \u001b[0mAuth\u001b[0m\u001b[0;34m(\u001b[0m\u001b[0mself\u001b[0m\u001b[0;34m.\u001b[0m\u001b[0mrest\u001b[0m\u001b[0;34m)\u001b[0m\u001b[0;34m\u001b[0m\u001b[0;34m\u001b[0m\u001b[0m\n\u001b[1;32m    732\u001b[0m         \u001b[0mauth\u001b[0m\u001b[0;34m.\u001b[0m\u001b[0mread_temporary_credentials\u001b[0m\u001b[0;34m(\u001b[0m\u001b[0mself\u001b[0m\u001b[0;34m.\u001b[0m\u001b[0mhost\u001b[0m\u001b[0;34m,\u001b[0m \u001b[0mself\u001b[0m\u001b[0;34m.\u001b[0m\u001b[0muser\u001b[0m\u001b[0;34m,\u001b[0m \u001b[0mself\u001b[0m\u001b[0;34m.\u001b[0m\u001b[0m_session_parameters\u001b[0m\u001b[0;34m)\u001b[0m\u001b[0;34m\u001b[0m\u001b[0;34m\u001b[0m\u001b[0m\n\u001b[0;32m--> 733\u001b[0;31m         \u001b[0mself\u001b[0m\u001b[0;34m.\u001b[0m\u001b[0m_authenticate\u001b[0m\u001b[0;34m(\u001b[0m\u001b[0mauth_instance\u001b[0m\u001b[0;34m)\u001b[0m\u001b[0;34m\u001b[0m\u001b[0;34m\u001b[0m\u001b[0m\n\u001b[0m\u001b[1;32m    734\u001b[0m \u001b[0;34m\u001b[0m\u001b[0m\n\u001b[1;32m    735\u001b[0m         \u001b[0mself\u001b[0m\u001b[0;34m.\u001b[0m\u001b[0m_password\u001b[0m \u001b[0;34m=\u001b[0m \u001b[0;32mNone\u001b[0m  \u001b[0;31m# ensure password won't persist\u001b[0m\u001b[0;34m\u001b[0m\u001b[0;34m\u001b[0m\u001b[0m\n",
            "\u001b[0;32m/usr/local/lib/python3.7/dist-packages/snowflake/connector/connection.py\u001b[0m in \u001b[0;36m_authenticate\u001b[0;34m(self, auth_instance)\u001b[0m\n\u001b[1;32m    992\u001b[0m         \u001b[0;31m# make some changes if needed before real __authenticate\u001b[0m\u001b[0;34m\u001b[0m\u001b[0;34m\u001b[0m\u001b[0;34m\u001b[0m\u001b[0m\n\u001b[1;32m    993\u001b[0m         \u001b[0;32mtry\u001b[0m\u001b[0;34m:\u001b[0m\u001b[0;34m\u001b[0m\u001b[0;34m\u001b[0m\u001b[0m\n\u001b[0;32m--> 994\u001b[0;31m             \u001b[0mself\u001b[0m\u001b[0;34m.\u001b[0m\u001b[0m__authenticate\u001b[0m\u001b[0;34m(\u001b[0m\u001b[0mself\u001b[0m\u001b[0;34m.\u001b[0m\u001b[0m__preprocess_auth_instance\u001b[0m\u001b[0;34m(\u001b[0m\u001b[0mauth_instance\u001b[0m\u001b[0;34m)\u001b[0m\u001b[0;34m)\u001b[0m\u001b[0;34m\u001b[0m\u001b[0;34m\u001b[0m\u001b[0m\n\u001b[0m\u001b[1;32m    995\u001b[0m         \u001b[0;32mexcept\u001b[0m \u001b[0mReauthenticationRequest\u001b[0m \u001b[0;32mas\u001b[0m \u001b[0mex\u001b[0m\u001b[0;34m:\u001b[0m\u001b[0;34m\u001b[0m\u001b[0;34m\u001b[0m\u001b[0m\n\u001b[1;32m    996\u001b[0m             \u001b[0;31m# cached id_token expiration error, we have cleaned id_token and try to authenticate again\u001b[0m\u001b[0;34m\u001b[0m\u001b[0;34m\u001b[0m\u001b[0;34m\u001b[0m\u001b[0m\n",
            "\u001b[0;32m/usr/local/lib/python3.7/dist-packages/snowflake/connector/connection.py\u001b[0m in \u001b[0;36m__authenticate\u001b[0;34m(self, auth_instance)\u001b[0m\n\u001b[1;32m   1004\u001b[0m             \u001b[0maccount\u001b[0m\u001b[0;34m=\u001b[0m\u001b[0mself\u001b[0m\u001b[0;34m.\u001b[0m\u001b[0maccount\u001b[0m\u001b[0;34m,\u001b[0m\u001b[0;34m\u001b[0m\u001b[0;34m\u001b[0m\u001b[0m\n\u001b[1;32m   1005\u001b[0m             \u001b[0muser\u001b[0m\u001b[0;34m=\u001b[0m\u001b[0mself\u001b[0m\u001b[0;34m.\u001b[0m\u001b[0muser\u001b[0m\u001b[0;34m,\u001b[0m\u001b[0;34m\u001b[0m\u001b[0;34m\u001b[0m\u001b[0m\n\u001b[0;32m-> 1006\u001b[0;31m             \u001b[0mpassword\u001b[0m\u001b[0;34m=\u001b[0m\u001b[0mself\u001b[0m\u001b[0;34m.\u001b[0m\u001b[0m_password\u001b[0m\u001b[0;34m,\u001b[0m\u001b[0;34m\u001b[0m\u001b[0;34m\u001b[0m\u001b[0m\n\u001b[0m\u001b[1;32m   1007\u001b[0m         )\n\u001b[1;32m   1008\u001b[0m         self._consent_cache_id_token = getattr(\n",
            "\u001b[0;32m/usr/local/lib/python3.7/dist-packages/snowflake/connector/auth_webbrowser.py\u001b[0m in \u001b[0;36mauthenticate\u001b[0;34m(self, authenticator, service_name, account, user, password)\u001b[0m\n\u001b[1;32m    137\u001b[0m                 )\n\u001b[1;32m    138\u001b[0m                 \u001b[0mprint\u001b[0m\u001b[0;34m(\u001b[0m\u001b[0;34mf\"URL: {sso_url}\"\u001b[0m\u001b[0;34m)\u001b[0m\u001b[0;34m\u001b[0m\u001b[0;34m\u001b[0m\u001b[0m\n\u001b[0;32m--> 139\u001b[0;31m                 \u001b[0murl\u001b[0m \u001b[0;34m=\u001b[0m \u001b[0minput\u001b[0m\u001b[0;34m(\u001b[0m\u001b[0;34m\"Enter the URL the SSO URL redirected you to: \"\u001b[0m\u001b[0;34m)\u001b[0m\u001b[0;34m\u001b[0m\u001b[0;34m\u001b[0m\u001b[0m\n\u001b[0m\u001b[1;32m    140\u001b[0m                 \u001b[0mself\u001b[0m\u001b[0;34m.\u001b[0m\u001b[0m_process_get_url\u001b[0m\u001b[0;34m(\u001b[0m\u001b[0murl\u001b[0m\u001b[0;34m)\u001b[0m\u001b[0;34m\u001b[0m\u001b[0;34m\u001b[0m\u001b[0m\n\u001b[1;32m    141\u001b[0m                 \u001b[0;32mif\u001b[0m \u001b[0;32mnot\u001b[0m \u001b[0mself\u001b[0m\u001b[0;34m.\u001b[0m\u001b[0m_token\u001b[0m\u001b[0;34m:\u001b[0m\u001b[0;34m\u001b[0m\u001b[0;34m\u001b[0m\u001b[0m\n",
            "\u001b[0;32m/usr/local/lib/python3.7/dist-packages/ipykernel/kernelbase.py\u001b[0m in \u001b[0;36mraw_input\u001b[0;34m(self, prompt)\u001b[0m\n\u001b[1;32m    702\u001b[0m             \u001b[0mself\u001b[0m\u001b[0;34m.\u001b[0m\u001b[0m_parent_ident\u001b[0m\u001b[0;34m,\u001b[0m\u001b[0;34m\u001b[0m\u001b[0;34m\u001b[0m\u001b[0m\n\u001b[1;32m    703\u001b[0m             \u001b[0mself\u001b[0m\u001b[0;34m.\u001b[0m\u001b[0m_parent_header\u001b[0m\u001b[0;34m,\u001b[0m\u001b[0;34m\u001b[0m\u001b[0;34m\u001b[0m\u001b[0m\n\u001b[0;32m--> 704\u001b[0;31m             \u001b[0mpassword\u001b[0m\u001b[0;34m=\u001b[0m\u001b[0;32mFalse\u001b[0m\u001b[0;34m,\u001b[0m\u001b[0;34m\u001b[0m\u001b[0;34m\u001b[0m\u001b[0m\n\u001b[0m\u001b[1;32m    705\u001b[0m         )\n\u001b[1;32m    706\u001b[0m \u001b[0;34m\u001b[0m\u001b[0m\n",
            "\u001b[0;32m/usr/local/lib/python3.7/dist-packages/ipykernel/kernelbase.py\u001b[0m in \u001b[0;36m_input_request\u001b[0;34m(self, prompt, ident, parent, password)\u001b[0m\n\u001b[1;32m    732\u001b[0m             \u001b[0;32mexcept\u001b[0m \u001b[0mKeyboardInterrupt\u001b[0m\u001b[0;34m:\u001b[0m\u001b[0;34m\u001b[0m\u001b[0;34m\u001b[0m\u001b[0m\n\u001b[1;32m    733\u001b[0m                 \u001b[0;31m# re-raise KeyboardInterrupt, to truncate traceback\u001b[0m\u001b[0;34m\u001b[0m\u001b[0;34m\u001b[0m\u001b[0;34m\u001b[0m\u001b[0m\n\u001b[0;32m--> 734\u001b[0;31m                 \u001b[0;32mraise\u001b[0m \u001b[0mKeyboardInterrupt\u001b[0m\u001b[0;34m\u001b[0m\u001b[0;34m\u001b[0m\u001b[0m\n\u001b[0m\u001b[1;32m    735\u001b[0m             \u001b[0;32melse\u001b[0m\u001b[0;34m:\u001b[0m\u001b[0;34m\u001b[0m\u001b[0;34m\u001b[0m\u001b[0m\n\u001b[1;32m    736\u001b[0m                 \u001b[0;32mbreak\u001b[0m\u001b[0;34m\u001b[0m\u001b[0;34m\u001b[0m\u001b[0m\n",
            "\u001b[0;31mKeyboardInterrupt\u001b[0m: "
          ]
        }
      ],
      "source": [
        "conn = snowflake.connector.connect(\n",
        "    user='jan-lucas.deinhard@siemens-healthineers.com',\n",
        "    account='shsitdl.west-europe.azure',\n",
        "    authenticator='externalbrowser'\n",
        ")"
      ]
    },
    {
      "cell_type": "code",
      "execution_count": null,
      "metadata": {
        "id": "rqTfc4dQ9f-f"
      },
      "outputs": [],
      "source": [
        "info = pd.read_sql(\"SHOW COLUMNS\",con=conn)"
      ]
    },
    {
      "cell_type": "code",
      "execution_count": null,
      "metadata": {
        "id": "OkyH7L9l9f-g",
        "outputId": "e34322f7-8284-4bec-e3f1-b8427a4ee66d"
      },
      "outputs": [
        {
          "name": "stderr",
          "output_type": "stream",
          "text": [
            "<ipython-input-20-b893168c8783>:3: SettingWithCopyWarning: \n",
            "A value is trying to be set on a copy of a slice from a DataFrame.\n",
            "Try using .loc[row_indexer,col_indexer] = value instead\n",
            "\n",
            "See the caveats in the documentation: https://pandas.pydata.org/pandas-docs/stable/user_guide/indexing.html#returning-a-view-versus-a-copy\n",
            "  df['table_name'] = df[['schema_name','table_name']].apply(lambda x: x[0]+'.'+x[1],axis=1)\n"
          ]
        }
      ],
      "source": [
        "df = info[info['database_name']=='CRMCL_TOPICAREA']\n",
        "\n",
        "df['table_name'] = df[['schema_name','table_name']].apply(lambda x: x[0]+'.'+x[1],axis=1)\n",
        "df = df[df['schema_name'].isin([\n",
        "    'AUXFILES',\n",
        "    'CNJ',\n",
        "    'CPQ',\n",
        "    'GCR',\n",
        "    'OSC',\n",
        "    'VARIAN'\n",
        "])].drop(columns=['data_type','null?','kind','expression','comment','database_name','autoincrement','default','schema_name'])"
      ]
    },
    {
      "cell_type": "code",
      "execution_count": null,
      "metadata": {
        "id": "e6IOi5tj9f-g"
      },
      "outputs": [],
      "source": [
        "conn.close()"
      ]
    },
    {
      "cell_type": "code",
      "execution_count": null,
      "metadata": {
        "id": "OcBF98_69f-h",
        "outputId": "08c7f9e4-8036-4e36-bb53-e1b8e597d08c"
      },
      "outputs": [
        {
          "data": {
            "text/html": [
              "<div>\n",
              "<style scoped>\n",
              "    .dataframe tbody tr th:only-of-type {\n",
              "        vertical-align: middle;\n",
              "    }\n",
              "\n",
              "    .dataframe tbody tr th {\n",
              "        vertical-align: top;\n",
              "    }\n",
              "\n",
              "    .dataframe thead th {\n",
              "        text-align: right;\n",
              "    }\n",
              "</style>\n",
              "<table border=\"1\" class=\"dataframe\">\n",
              "  <thead>\n",
              "    <tr style=\"text-align: right;\">\n",
              "      <th></th>\n",
              "      <th>table_name</th>\n",
              "      <th>column_name</th>\n",
              "    </tr>\n",
              "  </thead>\n",
              "  <tbody>\n",
              "    <tr>\n",
              "      <th>627244</th>\n",
              "      <td>AUXFILES.Account_Address_Geolocations</td>\n",
              "      <td>ACCOUNT_ID</td>\n",
              "    </tr>\n",
              "    <tr>\n",
              "      <th>627245</th>\n",
              "      <td>AUXFILES.Account_Address_Geolocations</td>\n",
              "      <td>Account Address</td>\n",
              "    </tr>\n",
              "    <tr>\n",
              "      <th>627246</th>\n",
              "      <td>AUXFILES.Account_Address_Geolocations</td>\n",
              "      <td>Account City</td>\n",
              "    </tr>\n",
              "    <tr>\n",
              "      <th>627247</th>\n",
              "      <td>AUXFILES.Account_Address_Geolocations</td>\n",
              "      <td>Account.Address Country</td>\n",
              "    </tr>\n",
              "    <tr>\n",
              "      <th>627248</th>\n",
              "      <td>AUXFILES.Account_Address_Geolocations</td>\n",
              "      <td>Account.Address accuracy</td>\n",
              "    </tr>\n",
              "    <tr>\n",
              "      <th>...</th>\n",
              "      <td>...</td>\n",
              "      <td>...</td>\n",
              "    </tr>\n",
              "    <tr>\n",
              "      <th>635303</th>\n",
              "      <td>VARIAN.VarianTerritories</td>\n",
              "      <td>Sub-Region</td>\n",
              "    </tr>\n",
              "    <tr>\n",
              "      <th>635304</th>\n",
              "      <td>VARIAN.VarianTerritories</td>\n",
              "      <td>Super-Territory</td>\n",
              "    </tr>\n",
              "    <tr>\n",
              "      <th>635305</th>\n",
              "      <td>VARIAN.VarianTerritories</td>\n",
              "      <td>TERRITORY_ID</td>\n",
              "    </tr>\n",
              "    <tr>\n",
              "      <th>635306</th>\n",
              "      <td>VARIAN.VarianTerritories</td>\n",
              "      <td>Territory</td>\n",
              "    </tr>\n",
              "    <tr>\n",
              "      <th>635307</th>\n",
              "      <td>VARIAN.VarianTerritories</td>\n",
              "      <td>Territory Code</td>\n",
              "    </tr>\n",
              "  </tbody>\n",
              "</table>\n",
              "<p>4233 rows × 2 columns</p>\n",
              "</div>"
            ],
            "text/plain": [
              "                                   table_name               column_name\n",
              "627244  AUXFILES.Account_Address_Geolocations                ACCOUNT_ID\n",
              "627245  AUXFILES.Account_Address_Geolocations           Account Address\n",
              "627246  AUXFILES.Account_Address_Geolocations              Account City\n",
              "627247  AUXFILES.Account_Address_Geolocations   Account.Address Country\n",
              "627248  AUXFILES.Account_Address_Geolocations  Account.Address accuracy\n",
              "...                                       ...                       ...\n",
              "635303               VARIAN.VarianTerritories                Sub-Region\n",
              "635304               VARIAN.VarianTerritories           Super-Territory\n",
              "635305               VARIAN.VarianTerritories              TERRITORY_ID\n",
              "635306               VARIAN.VarianTerritories                 Territory\n",
              "635307               VARIAN.VarianTerritories            Territory Code\n",
              "\n",
              "[4233 rows x 2 columns]"
            ]
          },
          "execution_count": 21,
          "metadata": {},
          "output_type": "execute_result"
        }
      ],
      "source": [
        "df"
      ]
    },
    {
      "cell_type": "code",
      "execution_count": null,
      "metadata": {
        "id": "l8DUXt_q9f-h"
      },
      "outputs": [],
      "source": [
        "df0 = df.groupby(['column_name'],as_index=False).agg({'table_name':'||'.join})"
      ]
    },
    {
      "cell_type": "code",
      "execution_count": null,
      "metadata": {
        "id": "l_46LSJe9f-i"
      },
      "outputs": [],
      "source": [
        "df0['num_tables_with_key'] = df0['table_name'].apply(lambda x: len(str(x).split('||')))"
      ]
    },
    {
      "cell_type": "code",
      "execution_count": null,
      "metadata": {
        "id": "3ujDqhhV9f-i"
      },
      "outputs": [],
      "source": [
        "df0 = df0.sort_values(by='num_tables_with_key',ascending=False)"
      ]
    },
    {
      "cell_type": "code",
      "execution_count": null,
      "metadata": {
        "id": "7Mz1agso9f-j",
        "outputId": "65d9329a-faf8-4788-e07a-e3de47f9384d"
      },
      "outputs": [
        {
          "data": {
            "text/html": [
              "<div>\n",
              "<style scoped>\n",
              "    .dataframe tbody tr th:only-of-type {\n",
              "        vertical-align: middle;\n",
              "    }\n",
              "\n",
              "    .dataframe tbody tr th {\n",
              "        vertical-align: top;\n",
              "    }\n",
              "\n",
              "    .dataframe thead th {\n",
              "        text-align: right;\n",
              "    }\n",
              "</style>\n",
              "<table border=\"1\" class=\"dataframe\">\n",
              "  <thead>\n",
              "    <tr style=\"text-align: right;\">\n",
              "      <th></th>\n",
              "      <th>column_name</th>\n",
              "      <th>table_name</th>\n",
              "      <th>num_tables_with_key</th>\n",
              "    </tr>\n",
              "  </thead>\n",
              "  <tbody>\n",
              "    <tr>\n",
              "      <th>1</th>\n",
              "      <td>ACCOUNT_ID</td>\n",
              "      <td>AUXFILES.Account_Address_Geolocations||AUXFILE...</td>\n",
              "      <td>54</td>\n",
              "    </tr>\n",
              "    <tr>\n",
              "      <th>1784</th>\n",
              "      <td>SECURITY_ID</td>\n",
              "      <td>CNJ.CNJ_MarketShare||CPQ.ACTIVE_QUOTES_HEADER|...</td>\n",
              "      <td>45</td>\n",
              "    </tr>\n",
              "    <tr>\n",
              "      <th>1672</th>\n",
              "      <td>Quote Number and Revision</td>\n",
              "      <td>CPQ.ACTIVE_QUOTES_HEADER||CPQ.CS_QUOTEITEM_COS...</td>\n",
              "      <td>22</td>\n",
              "    </tr>\n",
              "    <tr>\n",
              "      <th>1002</th>\n",
              "      <td>Group Currency</td>\n",
              "      <td>CPQ.CS_QUOTEITEM_COSTS||CPQ.CS_Quote_Details||...</td>\n",
              "      <td>20</td>\n",
              "    </tr>\n",
              "    <tr>\n",
              "      <th>354</th>\n",
              "      <td>Business Line</td>\n",
              "      <td>AUXFILES.Manual Adjustments||CPQ.IN_VITRO_Addi...</td>\n",
              "      <td>18</td>\n",
              "    </tr>\n",
              "    <tr>\n",
              "      <th>...</th>\n",
              "      <td>...</td>\n",
              "      <td>...</td>\n",
              "      <td>...</td>\n",
              "    </tr>\n",
              "    <tr>\n",
              "      <th>509</th>\n",
              "      <td>Consumable Name</td>\n",
              "      <td>CPQ.IN_VITRO_Consumables_per_Enduser||CPQ.IN_V...</td>\n",
              "      <td>2</td>\n",
              "    </tr>\n",
              "    <tr>\n",
              "      <th>241</th>\n",
              "      <td>Asset Age (days)</td>\n",
              "      <td>OSC.Assets||VARIAN.VarianAssets</td>\n",
              "      <td>2</td>\n",
              "    </tr>\n",
              "    <tr>\n",
              "      <th>238</th>\n",
              "      <td>Assay Name</td>\n",
              "      <td>AUXFILES.IN_VITRO_AssayNameMap_by_PartNumber||...</td>\n",
              "      <td>2</td>\n",
              "    </tr>\n",
              "    <tr>\n",
              "      <th>252</th>\n",
              "      <td>Asset Install Year</td>\n",
              "      <td>OSC.Assets||VARIAN.VarianAssets</td>\n",
              "      <td>2</td>\n",
              "    </tr>\n",
              "    <tr>\n",
              "      <th>253</th>\n",
              "      <td>Asset Installation Date</td>\n",
              "      <td>OSC.Assets||VARIAN.VarianAssets</td>\n",
              "      <td>2</td>\n",
              "    </tr>\n",
              "  </tbody>\n",
              "</table>\n",
              "<p>672 rows × 3 columns</p>\n",
              "</div>"
            ],
            "text/plain": [
              "                    column_name  \\\n",
              "1                    ACCOUNT_ID   \n",
              "1784                SECURITY_ID   \n",
              "1672  Quote Number and Revision   \n",
              "1002             Group Currency   \n",
              "354               Business Line   \n",
              "...                         ...   \n",
              "509             Consumable Name   \n",
              "241            Asset Age (days)   \n",
              "238                  Assay Name   \n",
              "252          Asset Install Year   \n",
              "253     Asset Installation Date   \n",
              "\n",
              "                                             table_name  num_tables_with_key  \n",
              "1     AUXFILES.Account_Address_Geolocations||AUXFILE...                   54  \n",
              "1784  CNJ.CNJ_MarketShare||CPQ.ACTIVE_QUOTES_HEADER|...                   45  \n",
              "1672  CPQ.ACTIVE_QUOTES_HEADER||CPQ.CS_QUOTEITEM_COS...                   22  \n",
              "1002  CPQ.CS_QUOTEITEM_COSTS||CPQ.CS_Quote_Details||...                   20  \n",
              "354   AUXFILES.Manual Adjustments||CPQ.IN_VITRO_Addi...                   18  \n",
              "...                                                 ...                  ...  \n",
              "509   CPQ.IN_VITRO_Consumables_per_Enduser||CPQ.IN_V...                    2  \n",
              "241                     OSC.Assets||VARIAN.VarianAssets                    2  \n",
              "238   AUXFILES.IN_VITRO_AssayNameMap_by_PartNumber||...                    2  \n",
              "252                     OSC.Assets||VARIAN.VarianAssets                    2  \n",
              "253                     OSC.Assets||VARIAN.VarianAssets                    2  \n",
              "\n",
              "[672 rows x 3 columns]"
            ]
          },
          "execution_count": 25,
          "metadata": {},
          "output_type": "execute_result"
        }
      ],
      "source": [
        "df0[df0['num_tables_with_key']>1]"
      ]
    },
    {
      "cell_type": "code",
      "execution_count": null,
      "metadata": {
        "id": "MaDB5BGp9f-j"
      },
      "outputs": [],
      "source": [
        "df1 = df[df['column_name'].isin(df0[df0['column_name'].str.contains('_ID')]['column_name'].unique())]"
      ]
    },
    {
      "cell_type": "code",
      "execution_count": null,
      "metadata": {
        "id": "axoyLsp-9f-j"
      },
      "outputs": [],
      "source": [
        "rf = pd.DataFrame()\n",
        "\n",
        "for ccol in df0[df0['column_name'].str.contains('_ID')]['column_name'].unique():\n",
        "    connected_cols = df1[df1['table_name'].isin(df1[df1['column_name']==ccol]['table_name'].unique())]['column_name'].unique()\n",
        "    ff = pd.DataFrame(connected_cols).rename(columns={0:'From'})\n",
        "    ff['To'] = ccol\n",
        "    rf = pd.concat([rf,ff])"
      ]
    },
    {
      "cell_type": "code",
      "execution_count": null,
      "metadata": {
        "id": "nvXqsfKK9f-k"
      },
      "outputs": [],
      "source": [
        "rf['FromNEW'] = rf.apply(lambda x: sorted([x[0],x[1]])[0],axis=1)\n",
        "rf['ToNEW'] = rf.apply(lambda x: sorted([x[0],x[1]])[1],axis=1)"
      ]
    },
    {
      "cell_type": "code",
      "execution_count": null,
      "metadata": {
        "id": "sVP2kTqy9f-k"
      },
      "outputs": [],
      "source": [
        "rf = rf.drop(columns=['From','To']).rename(columns={'FromNEW':'From','ToNEW':'To'}).drop_duplicates()"
      ]
    },
    {
      "cell_type": "code",
      "execution_count": null,
      "metadata": {
        "id": "av1ruVsO9f-k"
      },
      "outputs": [],
      "source": [
        "rf = rf[~rf.apply(lambda x: x[0]==x[1],axis=1)]"
      ]
    },
    {
      "cell_type": "code",
      "execution_count": null,
      "metadata": {
        "id": "X3hNnR_y9f-l",
        "outputId": "aaa13330-2444-4c42-caaf-040fd531771b"
      },
      "outputs": [
        {
          "data": {
            "text/html": [
              "<div>\n",
              "<style scoped>\n",
              "    .dataframe tbody tr th:only-of-type {\n",
              "        vertical-align: middle;\n",
              "    }\n",
              "\n",
              "    .dataframe tbody tr th {\n",
              "        vertical-align: top;\n",
              "    }\n",
              "\n",
              "    .dataframe thead th {\n",
              "        text-align: right;\n",
              "    }\n",
              "</style>\n",
              "<table border=\"1\" class=\"dataframe\">\n",
              "  <thead>\n",
              "    <tr style=\"text-align: right;\">\n",
              "      <th></th>\n",
              "      <th>From</th>\n",
              "      <th>To</th>\n",
              "    </tr>\n",
              "  </thead>\n",
              "  <tbody>\n",
              "    <tr>\n",
              "      <th>1</th>\n",
              "      <td>ACCOUNT_ID</td>\n",
              "      <td>VAR_ACCOUNT_ID</td>\n",
              "    </tr>\n",
              "    <tr>\n",
              "      <th>2</th>\n",
              "      <td>ACCOUNT_ID</td>\n",
              "      <td>OPPORTUNITY_ID</td>\n",
              "    </tr>\n",
              "    <tr>\n",
              "      <th>3</th>\n",
              "      <td>ACCOUNT_ID</td>\n",
              "      <td>PROJECT_ID</td>\n",
              "    </tr>\n",
              "    <tr>\n",
              "      <th>4</th>\n",
              "      <td>ACCOUNT_ID</td>\n",
              "      <td>SECURITY_ID</td>\n",
              "    </tr>\n",
              "    <tr>\n",
              "      <th>5</th>\n",
              "      <td>ACCOUNT_ID</td>\n",
              "      <td>OLI_ID</td>\n",
              "    </tr>\n",
              "    <tr>\n",
              "      <th>...</th>\n",
              "      <td>...</td>\n",
              "      <td>...</td>\n",
              "    </tr>\n",
              "    <tr>\n",
              "      <th>9</th>\n",
              "      <td>EMPLOYEE_ID (Account Primary Sales Rep POC)</td>\n",
              "      <td>EMPLOYEE_ID (Account Secondary Sales Rep In-Vivo)</td>\n",
              "    </tr>\n",
              "    <tr>\n",
              "      <th>8</th>\n",
              "      <td>EMPLOYEE_ID (Account Primary Sales Rep Ultraso...</td>\n",
              "      <td>EMPLOYEE_ID (Account Secondary Sales Rep In-Vi...</td>\n",
              "    </tr>\n",
              "    <tr>\n",
              "      <th>9</th>\n",
              "      <td>EMPLOYEE_ID (Account Primary Sales Rep Ultraso...</td>\n",
              "      <td>EMPLOYEE_ID (Account Secondary Sales Rep In-Vivo)</td>\n",
              "    </tr>\n",
              "    <tr>\n",
              "      <th>9</th>\n",
              "      <td>EMPLOYEE_ID (Account Secondary Sales Rep In-Vi...</td>\n",
              "      <td>EMPLOYEE_ID (Account Secondary Sales Rep In-Vivo)</td>\n",
              "    </tr>\n",
              "    <tr>\n",
              "      <th>1</th>\n",
              "      <td>EMPLOYEE_ID (Manager)</td>\n",
              "      <td>EMPLOYEE_ID (Territory Assignment)</td>\n",
              "    </tr>\n",
              "  </tbody>\n",
              "</table>\n",
              "<p>421 rows × 2 columns</p>\n",
              "</div>"
            ],
            "text/plain": [
              "                                                 From  \\\n",
              "1                                          ACCOUNT_ID   \n",
              "2                                          ACCOUNT_ID   \n",
              "3                                          ACCOUNT_ID   \n",
              "4                                          ACCOUNT_ID   \n",
              "5                                          ACCOUNT_ID   \n",
              "..                                                ...   \n",
              "9         EMPLOYEE_ID (Account Primary Sales Rep POC)   \n",
              "8   EMPLOYEE_ID (Account Primary Sales Rep Ultraso...   \n",
              "9   EMPLOYEE_ID (Account Primary Sales Rep Ultraso...   \n",
              "9   EMPLOYEE_ID (Account Secondary Sales Rep In-Vi...   \n",
              "1                               EMPLOYEE_ID (Manager)   \n",
              "\n",
              "                                                   To  \n",
              "1                                      VAR_ACCOUNT_ID  \n",
              "2                                      OPPORTUNITY_ID  \n",
              "3                                          PROJECT_ID  \n",
              "4                                         SECURITY_ID  \n",
              "5                                              OLI_ID  \n",
              "..                                                ...  \n",
              "9   EMPLOYEE_ID (Account Secondary Sales Rep In-Vivo)  \n",
              "8   EMPLOYEE_ID (Account Secondary Sales Rep In-Vi...  \n",
              "9   EMPLOYEE_ID (Account Secondary Sales Rep In-Vivo)  \n",
              "9   EMPLOYEE_ID (Account Secondary Sales Rep In-Vivo)  \n",
              "1                  EMPLOYEE_ID (Territory Assignment)  \n",
              "\n",
              "[421 rows x 2 columns]"
            ]
          },
          "execution_count": 116,
          "metadata": {},
          "output_type": "execute_result"
        }
      ],
      "source": [
        "rf"
      ]
    },
    {
      "cell_type": "code",
      "execution_count": null,
      "metadata": {
        "id": "gDvXk5Ny9f-l"
      },
      "outputs": [],
      "source": [
        "import networkx as nx"
      ]
    },
    {
      "cell_type": "code",
      "execution_count": null,
      "metadata": {
        "id": "8PHtFn1P9f-l"
      },
      "outputs": [],
      "source": [
        "G = nx.Graph()"
      ]
    },
    {
      "cell_type": "code",
      "execution_count": null,
      "metadata": {
        "id": "-rgddSQG9f-l"
      },
      "outputs": [],
      "source": [
        "G.add_edges_from(rf[['From','To']].apply(lambda x: (x[0],x[1]),axis=1).tolist())"
      ]
    },
    {
      "cell_type": "code",
      "execution_count": null,
      "metadata": {
        "id": "2uDufTMA9f-l"
      },
      "outputs": [],
      "source": [
        "G.degree"
      ]
    }
  ],
  "metadata": {
    "kernelspec": {
      "display_name": "Python 3",
      "language": "python",
      "name": "python3"
    },
    "language_info": {
      "codemirror_mode": {
        "name": "ipython",
        "version": 3
      },
      "file_extension": ".py",
      "mimetype": "text/x-python",
      "name": "python",
      "nbconvert_exporter": "python",
      "pygments_lexer": "ipython3",
      "version": "3.8.5"
    },
    "colab": {
      "name": "DB_QualityCheck.ipynb",
      "provenance": [],
      "collapsed_sections": [],
      "include_colab_link": true
    }
  },
  "nbformat": 4,
  "nbformat_minor": 0
}