{
 "cells": [
  {
   "cell_type": "code",
   "execution_count": 2,
   "metadata": {},
   "outputs": [
    {
     "name": "stdout",
     "output_type": "stream",
     "text": [
      "The autotime extension is already loaded. To reload it, use:\n",
      "  %reload_ext autotime\n",
      "time: 0 ns (started: 2023-06-28 23:58:04 +02:00)\n"
     ]
    }
   ],
   "source": [
    "# Imports\n",
    "import numpy as np\n",
    "from numpy import random as rnd\n",
    "from matplotlib import pyplot as plt\n",
    "import sys,os,time,datetime,warnings,math,itertools\n",
    "\n",
    "import pandas as pd\n",
    "\n",
    "from plotly import express as px\n",
    "\n",
    "from gastrodon import RemoteEndpoint,QName,ttl,URIRef,inline\n",
    "\n",
    "# Config\n",
    "%load_ext autotime\n",
    "sys.path.append('../..')"
   ]
  },
  {
   "cell_type": "code",
   "execution_count": 16,
   "metadata": {},
   "outputs": [
    {
     "name": "stdout",
     "output_type": "stream",
     "text": [
      "time: 0 ns (started: 2023-06-29 00:12:22 +02:00)\n"
     ]
    }
   ],
   "source": [
    "prefixes = inline('''\n",
    "    @prefix : <http://dbpedia.org/resource/> .\n",
    "    @prefix dbo: <http://dbpedia.org/ontology/> .\n",
    "    @prefix pr: <http://dbpedia.org/property/> .\n",
    "''').graph"
   ]
  },
  {
   "cell_type": "code",
   "execution_count": 17,
   "metadata": {},
   "outputs": [
    {
     "name": "stdout",
     "output_type": "stream",
     "text": [
      "time: 0 ns (started: 2023-06-29 00:12:28 +02:00)\n"
     ]
    }
   ],
   "source": [
    "endpoint = RemoteEndpoint(\n",
    "    'http://dbpedia.org/sparql/',\n",
    "    default_graph='http://dbpedia.org',\n",
    "    prefixes=prefixes,\n",
    "    base_uri='http://dbpedia.org/resources/'\n",
    ")"
   ]
  },
  {
   "cell_type": "code",
   "execution_count": 18,
   "metadata": {},
   "outputs": [
    {
     "name": "stdout",
     "output_type": "stream",
     "text": [
      "time: 11.1 s (started: 2023-06-29 00:12:28 +02:00)\n"
     ]
    }
   ],
   "source": [
    "wars = endpoint.select('''\n",
    "    SELECT ?s ?p ?o\n",
    "    WHERE {\n",
    "        ?s ?p ?o .\n",
    "        FILTER regex(?s,'^.*War.*$')\n",
    "    }\n",
    "    GROUP BY ?s\n",
    "    ORDER BY DESC(?count)\n",
    "''').reset_index()"
   ]
  },
  {
   "cell_type": "code",
   "execution_count": 21,
   "metadata": {},
   "outputs": [
    {
     "name": "stdout",
     "output_type": "stream",
     "text": [
      "time: 1.02 s (started: 2023-06-29 00:17:52 +02:00)\n"
     ]
    }
   ],
   "source": [
    "wars = endpoint.select('''\n",
    "    SELECT ?battle\n",
    "    WHERE {\n",
    "        ?battle rdf:type dbo:MilitaryConflict .\n",
    "    }\n",
    "    ORDER BY ?date\n",
    "''').reset_index()"
   ]
  },
  {
   "cell_type": "code",
   "execution_count": 22,
   "metadata": {},
   "outputs": [
    {
     "data": {
      "text/html": [
       "<div>\n",
       "<style scoped>\n",
       "    .dataframe tbody tr th:only-of-type {\n",
       "        vertical-align: middle;\n",
       "    }\n",
       "\n",
       "    .dataframe tbody tr th {\n",
       "        vertical-align: top;\n",
       "    }\n",
       "\n",
       "    .dataframe thead th {\n",
       "        text-align: right;\n",
       "    }\n",
       "</style>\n",
       "<table border=\"1\" class=\"dataframe\">\n",
       "  <thead>\n",
       "    <tr style=\"text-align: right;\">\n",
       "      <th></th>\n",
       "      <th>index</th>\n",
       "      <th>battle</th>\n",
       "    </tr>\n",
       "  </thead>\n",
       "  <tbody>\n",
       "    <tr>\n",
       "      <th>0</th>\n",
       "      <td>0</td>\n",
       "      <td>:Cabanada</td>\n",
       "    </tr>\n",
       "    <tr>\n",
       "      <th>1</th>\n",
       "      <td>1</td>\n",
       "      <td>:Cabanagem</td>\n",
       "    </tr>\n",
       "    <tr>\n",
       "      <th>2</th>\n",
       "      <td>2</td>\n",
       "      <td>:Cabinda_War</td>\n",
       "    </tr>\n",
       "    <tr>\n",
       "      <th>3</th>\n",
       "      <td>3</td>\n",
       "      <td>:Cactus_Ridge</td>\n",
       "    </tr>\n",
       "    <tr>\n",
       "      <th>4</th>\n",
       "      <td>4</td>\n",
       "      <td>http://dbpedia.org/resource/Caddie_(18thC_Edin...</td>\n",
       "    </tr>\n",
       "    <tr>\n",
       "      <th>...</th>\n",
       "      <td>...</td>\n",
       "      <td>...</td>\n",
       "    </tr>\n",
       "    <tr>\n",
       "      <th>9995</th>\n",
       "      <td>9995</td>\n",
       "      <td>:Intermittent_preventive_therapy</td>\n",
       "    </tr>\n",
       "    <tr>\n",
       "      <th>9996</th>\n",
       "      <td>9996</td>\n",
       "      <td>:Intern_Aware</td>\n",
       "    </tr>\n",
       "    <tr>\n",
       "      <th>9997</th>\n",
       "      <td>9997</td>\n",
       "      <td>:Internal_conflict</td>\n",
       "    </tr>\n",
       "    <tr>\n",
       "      <th>9998</th>\n",
       "      <td>9998</td>\n",
       "      <td>:International_Coffee_Day</td>\n",
       "    </tr>\n",
       "    <tr>\n",
       "      <th>9999</th>\n",
       "      <td>9999</td>\n",
       "      <td>:International_Noise_Awareness_Day</td>\n",
       "    </tr>\n",
       "  </tbody>\n",
       "</table>\n",
       "<p>10000 rows × 2 columns</p>\n",
       "</div>"
      ],
      "text/plain": [
       "      index                                             battle\n",
       "0         0                                          :Cabanada\n",
       "1         1                                         :Cabanagem\n",
       "2         2                                       :Cabinda_War\n",
       "3         3                                      :Cactus_Ridge\n",
       "4         4  http://dbpedia.org/resource/Caddie_(18thC_Edin...\n",
       "...     ...                                                ...\n",
       "9995   9995                   :Intermittent_preventive_therapy\n",
       "9996   9996                                      :Intern_Aware\n",
       "9997   9997                                 :Internal_conflict\n",
       "9998   9998                          :International_Coffee_Day\n",
       "9999   9999                 :International_Noise_Awareness_Day\n",
       "\n",
       "[10000 rows x 2 columns]"
      ]
     },
     "execution_count": 22,
     "metadata": {},
     "output_type": "execute_result"
    },
    {
     "name": "stdout",
     "output_type": "stream",
     "text": [
      "time: 47 ms (started: 2023-06-29 00:17:57 +02:00)\n"
     ]
    }
   ],
   "source": [
    "wars"
   ]
  },
  {
   "cell_type": "code",
   "execution_count": null,
   "metadata": {},
   "outputs": [],
   "source": []
  }
 ],
 "metadata": {
  "kernelspec": {
   "display_name": "Python 3",
   "language": "python",
   "name": "python3"
  },
  "language_info": {
   "codemirror_mode": {
    "name": "ipython",
    "version": 3
   },
   "file_extension": ".py",
   "mimetype": "text/x-python",
   "name": "python",
   "nbconvert_exporter": "python",
   "pygments_lexer": "ipython3",
   "version": "3.8.5"
  },
  "vscode": {
   "interpreter": {
    "hash": "b0fa6594d8f4cbf19f97940f81e996739fb7646882a419484c72d19e05852a7e"
   }
  }
 },
 "nbformat": 4,
 "nbformat_minor": 2
}
