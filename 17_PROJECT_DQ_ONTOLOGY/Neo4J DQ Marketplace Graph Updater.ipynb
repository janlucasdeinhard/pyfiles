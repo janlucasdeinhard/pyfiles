{
 "cells": [
  {
   "cell_type": "code",
   "execution_count": 1,
   "metadata": {},
   "outputs": [],
   "source": [
    "# Default imports\n",
    "import numpy as np\n",
    "from numpy import random as rnd\n",
    "from matplotlib import pyplot as plt \n",
    "import os,sys,datetime,time,math,itertools,warnings\n",
    "\n",
    "# Pandas import\n",
    "import pandas as pd \n",
    "\n",
    "# Neo4j import\n",
    "from neo4j import GraphDatabase"
   ]
  },
  {
   "cell_type": "code",
   "execution_count": 345,
   "metadata": {},
   "outputs": [],
   "source": [
    "# Empty query template to write a new entity to the Knowledge Graph\n",
    "query_template = '''\n",
    "    CREATE (s:DQ_Standard{{\n",
    "        flag_name:\\'{v_flag_name}\\',\n",
    "        definition_freetext:\\'{v_def_text}\\',\n",
    "        definition_sql:\\'{v_def_sql}\\',\n",
    "        flag_target_row_identifier_field:\\'{v_row_id}\\',\n",
    "        violation_severity:{v_violation_severity},\n",
    "        record_effective_date:datetime(),\n",
    "        record_end_date:datetime(\\'9999-12-31T00:00:00\\')\n",
    "    }})\n",
    "    MERGE (m:ETL_Module{{\n",
    "        name:\\'{v_etl_name}\\',\n",
    "        etl_zone:\\'{v_etl_zone}\\',\n",
    "        link:\\'{v_etl_link}\\',\n",
    "        etl_schema:\\'{v_etl_schema}\\'\n",
    "    }})\n",
    "    MERGE (t:EDM_Table{{\n",
    "        TABLE_CATALOG:\\'{v_table_catalog}\\',\n",
    "        TABLE_SCHEMA:\\'{v_table_schema}\\',\n",
    "        TABLE_NAME:\\'{v_table_name}\\'\n",
    "    }})\n",
    "    MERGE (e1:employee{{name:\\'{v_empname_owner}\\'}})\n",
    "    MERGE (e2:employee{{name:\\'{v_empname_wfowner}\\'}})\n",
    "    MERGE (di:DQ_Dimension{{name:\\'{v_dq_dimension}\\'}})\n",
    "    MERGE (do:Domain{{name:\\'{v_domain}\\'}})\n",
    "    CREATE (s)-[indom:IN_DOMAIN]->(do)\n",
    "    CREATE (s)-[catas:CATEGORIZED_AS]->(di)\n",
    "    CREATE (s)-[repin:EDM_REPORTED_IN]->(t)\n",
    "    CREATE (s)-[calcas:CALCULATED_IN]->(m)\n",
    "    CREATE (e1)-[owner:STANDARD_OWNER]->(s)\n",
    "    CREATE (e2)-[wf_owner:WORKFLOW_MODIFICATION_OWNER]->(s)\n",
    "    RETURN s\n",
    "'''"
   ]
  },
  {
   "cell_type": "code",
   "execution_count": 2,
   "metadata": {},
   "outputs": [],
   "source": [
    "# Path configuration\n",
    "db_uri = r'neo4j+ssc://8ce1cc2b.databases.neo4j.io:7687'\n",
    "cred_link = r'C:\\\\Users\\\\z003mxpm\\\\Desktop\\\\neo4j.txt'\n",
    "flags_excel = r'C:\\\\Users\\\\z003mxpm\\\\Desktop\\\\DQ Flags in CDC - working file.xlsx'\n",
    "\n",
    "# Connect to credentials file on local machine and store to credentials tuple\n",
    "db_auth = ()\n",
    "with open(cred_link,'r') as f:\n",
    "    line = f.readline()\n",
    "    while len(line)>0:\n",
    "        if line[0]=='0':\n",
    "            db_auth += (line.split(':')[-1].strip(),)\n",
    "        if line[0]=='1':\n",
    "            db_auth += (line.split(':')[-1].strip(),)\n",
    "        line = f.readline()\n",
    "\n",
    "# Create Neo4j driver and interrupt in case of error\n",
    "driver = GraphDatabase.driver(db_uri,auth=db_auth)\n",
    "driver.verify_connectivity()\n",
    "\n",
    "# Use driver to create a session\n",
    "session = driver.session()"
   ]
  },
  {
   "cell_type": "code",
   "execution_count": 347,
   "metadata": {},
   "outputs": [],
   "source": [
    "# Read Excel with stored flag info\n",
    "ff = pd.read_excel(io=flags_excel,sheet_name='Test Set')\n",
    "\n",
    "# Determine flags already present in knowledge graph\n",
    "blocked_flags_qresult = session.run(query='MATCH (s:DQ_Standard) RETURN DISTINCT s.flag_name')\n",
    "blocked_flagnames = [k.data()['s.flag_name'] for k in list(blocked_flags_qresult)]\n",
    "\n",
    "# Filter out already present flags\n",
    "ff = ff[~ff['Flag Name'].isin(blocked_flagnames)]"
   ]
  },
  {
   "cell_type": "code",
   "execution_count": 4,
   "metadata": {},
   "outputs": [
    {
     "ename": "NameError",
     "evalue": "name 'blocked_flags_qresult' is not defined",
     "output_type": "error",
     "traceback": [
      "\u001b[1;31m---------------------------------------------------------------------------\u001b[0m",
      "\u001b[1;31mNameError\u001b[0m                                 Traceback (most recent call last)",
      "\u001b[1;32m<ipython-input-4-9e2ee2bd737c>\u001b[0m in \u001b[0;36m<module>\u001b[1;34m\u001b[0m\n\u001b[1;32m----> 1\u001b[1;33m \u001b[0mblocked_flags_qresult\u001b[0m\u001b[1;33m\u001b[0m\u001b[1;33m\u001b[0m\u001b[0m\n\u001b[0m",
      "\u001b[1;31mNameError\u001b[0m: name 'blocked_flags_qresult' is not defined"
     ]
    }
   ],
   "source": [
    "blocked_flags_qresult"
   ]
  },
  {
   "cell_type": "code",
   "execution_count": 350,
   "metadata": {},
   "outputs": [],
   "source": [
    "# Iterate all rows\n",
    "for key,item in ff.iterrows():\n",
    "    # Assemble row query\n",
    "    query = query_template.format(\n",
    "        # DQ Standard Config\n",
    "        v_flag_name=item['Flag Name'],\n",
    "        v_def_text=item['Business Definition'].replace('\\'','\\\\\\''),\n",
    "        v_def_sql=item['SQL Definition'].replace('\\'','\\\\\\''),\n",
    "        v_row_id=item['Row Identifier'],\n",
    "        v_violation_severity='2',\n",
    "        # ETL Module Config\n",
    "        v_etl_name=item['Calculation ETL Name'],\n",
    "        v_etl_zone=item['Calculation ETL Zone'],\n",
    "        v_etl_link=item['Calculation WF Link'],\n",
    "        v_etl_schema=item['Calculation ETL Schema'],\n",
    "        # EDM Table Config\n",
    "        v_table_catalog=item['Table Catalog'],\n",
    "        v_table_schema=item['Table Schema'],\n",
    "        v_table_name=item['Table'],\n",
    "        # Details Config\n",
    "        v_empname_owner=item['Owner'],\n",
    "        v_empname_wfowner=item['WF Mod Owner'],\n",
    "        v_dq_dimension=item['Dimension'],\n",
    "        v_domain=item['Domain']\n",
    "    )\n",
    "     # Run the query\n",
    "    result = session.run(query=query)"
   ]
  },
  {
   "cell_type": "code",
   "execution_count": 351,
   "metadata": {},
   "outputs": [],
   "source": [
    "# Close driver and session\n",
    "session.close()\n",
    "driver.close()"
   ]
  },
  {
   "cell_type": "code",
   "execution_count": null,
   "metadata": {},
   "outputs": [],
   "source": []
  }
 ],
 "metadata": {
  "kernelspec": {
   "display_name": "base",
   "language": "python",
   "name": "python3"
  },
  "language_info": {
   "codemirror_mode": {
    "name": "ipython",
    "version": 3
   },
   "file_extension": ".py",
   "mimetype": "text/x-python",
   "name": "python",
   "nbconvert_exporter": "python",
   "pygments_lexer": "ipython3",
   "version": "3.8.5"
  }
 },
 "nbformat": 4,
 "nbformat_minor": 2
}
