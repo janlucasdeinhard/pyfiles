{
 "cells": [
  {
   "cell_type": "code",
   "execution_count": 23,
   "metadata": {},
   "outputs": [
    {
     "data": {
      "image/png": "[encoded data removed]",
      "text/plain": [
       "<Figure size 720x720 with 1 Axes>"
      ]
     },
     "metadata": {
      "needs_background": "light"
     },
     "output_type": "display_data"
    }
   ],
   "source": [
    "# Imports\n",
    "import shapely.geometry as sg\n",
    "import matplotlib.pyplot as plt\n",
    "\n",
    "# Spawn three voters in the location of their ideal policy\n",
    "P1 = sg.Point(-1,1).buffer(.04)\n",
    "P2 = sg.Point(-1,-1).buffer(.04)\n",
    "P3 = sg.Point(1,0).buffer(.04)\n",
    "\n",
    "# Spawn an existing policy\n",
    "pol0 = sg.Point(0,0).buffer(.04)\n",
    "\n",
    "# Geometries\n",
    "voters = [P1,P2,P3]\n",
    "policies = [pol0]\n",
    "\n",
    "objects = voters+policies\n",
    "\n",
    "# compute the 3 parts\n",
    "#left = a.difference(b)\n",
    "#right = b.difference(a)\n",
    "#middle = a.intersection(b)\n",
    "\n",
    "fig, ax = plt.subplots(figsize=(10,10))\n",
    "\n",
    "P1r = P1.buffer(P1.distance(pol0)+0.09)\n",
    "P2r = P2.buffer(P2.distance(pol0)+0.09)\n",
    "P3r = P3.buffer(P3.distance(pol0)+0.09)\n",
    "xs,ys = P1r.exterior.xy\n",
    "ax.fill(xs,ys,alpha=0.2,fc='yellow',ec='none')\n",
    "xs,ys = P2r.exterior.xy\n",
    "ax.fill(xs,ys,alpha=0.2,fc='yellow',ec='none')\n",
    "xs,ys = P3r.exterior.xy\n",
    "ax.fill(xs,ys,alpha=0.15,fc='red',ec='none')\n",
    "\n",
    "for geom in objects:\n",
    "    if geom in voters:\n",
    "        mcolor = 'red'\n",
    "    elif geom in policies:\n",
    "        mcolor = 'green'\n",
    "    else:\n",
    "        mcolor = 'black' \n",
    "    xs, ys = geom.exterior.xy    \n",
    "    ax.fill(xs,ys,alpha=0.9,fc=mcolor,ec='none')\n",
    "\n",
    "# Annotate P1\n",
    "ax.annotate(\n",
    "    'Person P1',\n",
    "    xy=(-1,1), \n",
    "    xycoords='data',\n",
    "    xytext=(50,30), \n",
    "    textcoords='offset points',\n",
    "    bbox=dict(\n",
    "        boxstyle='round',\n",
    "        fc='0.8'\n",
    "    ),\n",
    "    arrowprops=dict(\n",
    "        arrowstyle='->',\n",
    "        shrinkA=0, \n",
    "        shrinkB=10,\n",
    "        connectionstyle='angle,angleA=0,angleB=90,rad=20'\n",
    "    )\n",
    ")\n",
    "# Annotate P2\n",
    "ax.annotate(\n",
    "    'Person P2',\n",
    "    xy=(-1,-1), \n",
    "    xycoords='data',\n",
    "    xytext=(50,30), \n",
    "    textcoords='offset points',\n",
    "    bbox=dict(\n",
    "        boxstyle='round',\n",
    "        fc='0.8'\n",
    "    ),\n",
    "    arrowprops=dict(\n",
    "        arrowstyle='->',\n",
    "        shrinkA=0, \n",
    "        shrinkB=10,\n",
    "        connectionstyle='angle,angleA=0,angleB=90,rad=20'\n",
    "    )\n",
    ")\n",
    "# Annotate P3\n",
    "ax.annotate(\n",
    "    'Person P3',\n",
    "    xy=(1,0), \n",
    "    xycoords='data',\n",
    "    xytext=(50,30), \n",
    "    textcoords='offset points',\n",
    "    bbox=dict(\n",
    "        boxstyle='round',\n",
    "        fc='0.8'\n",
    "    ),\n",
    "    arrowprops=dict(\n",
    "        arrowstyle='->',\n",
    "        shrinkA=0, \n",
    "        shrinkB=10,\n",
    "        connectionstyle='angle,angleA=0,angleB=90,rad=20'\n",
    "    )\n",
    ")\n",
    "# Annotate pol0\n",
    "ax.annotate(\n",
    "    'Current Policy',\n",
    "    xy=(0,0), \n",
    "    xycoords='data',\n",
    "    xytext=(-50,30), \n",
    "    textcoords='offset points',\n",
    "    bbox=dict(\n",
    "        boxstyle='round',\n",
    "        fc='0.8'\n",
    "    ),\n",
    "    arrowprops=dict(\n",
    "        arrowstyle='->',\n",
    "        shrinkA=0, \n",
    "        shrinkB=10,\n",
    "        connectionstyle='angle,angleA=0,angleB=90,rad=20'\n",
    "    )\n",
    ")\n",
    "\n",
    "# control and display\n",
    "ax.set_xlim(-3, 4)\n",
    "ax.set_ylim(-2, 2)\n",
    "ax.set_aspect('equal')\n",
    "ax.grid()\n",
    "plt.show()"
   ]
  },
  {
   "cell_type": "code",
   "execution_count": 5,
   "metadata": {},
   "outputs": [
    {
     "data": {
      "text/plain": [
       "1.534213562373095"
      ]
     },
     "execution_count": 5,
     "metadata": {},
     "output_type": "execute_result"
    }
   ],
   "source": [
    "P1.distance(pol0)+0.2"
   ]
  },
  {
   "cell_type": "code",
   "execution_count": null,
   "metadata": {},
   "outputs": [],
   "source": []
  }
 ],
 "metadata": {
  "kernelspec": {
   "display_name": "base",
   "language": "python",
   "name": "python3"
  },
  "language_info": {
   "codemirror_mode": {
    "name": "ipython",
    "version": 3
   },
   "file_extension": ".py",
   "mimetype": "text/x-python",
   "name": "python",
   "nbconvert_exporter": "python",
   "pygments_lexer": "ipython3",
   "version": "3.8.5"
  },
  "orig_nbformat": 4
 },
 "nbformat": 4,
 "nbformat_minor": 2
}
