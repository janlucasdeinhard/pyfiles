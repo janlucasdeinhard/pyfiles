{
 "cells": [
  {
   "cell_type": "code",
   "execution_count": 1,
   "metadata": {},
   "outputs": [
    {
     "name": "stderr",
     "output_type": "stream",
     "text": [
      "/opt/homebrew/lib/python3.10/site-packages/tqdm/auto.py:22: TqdmWarning: IProgress not found. Please update jupyter and ipywidgets. See https://ipywidgets.readthedocs.io/en/stable/user_install.html\n",
      "  from .autonotebook import tqdm as notebook_tqdm\n"
     ]
    }
   ],
   "source": [
    "import numpy as np\n",
    "from numpy import random as rnd\n",
    "from matplotlib import pyplot as plt\n",
    "import os,datetime,time,warnings,sys,itertools,math,platform\n",
    "\n",
    "import pandas as pd\n",
    "\n",
    "from plotly import express\n",
    "\n",
    "import torch\n",
    "import torch.nn as nn\n",
    "import torch.nn.functional as F\n",
    "\n",
    "from rdflib import Namespace,URIRef,Graph,Literal\n",
    "from rdflib.namespace import RDF,NamespaceManager\n",
    "from urllib.parse import quote"
   ]
  },
  {
   "cell_type": "code",
   "execution_count": 2,
   "metadata": {},
   "outputs": [],
   "source": [
    "if platform.system()=='Windows':\n",
    "    path_to_dq_excel = r'D:\\\\UserData\\\\z003mxpm\\\\gitdir\\\\GITREPO\\\\TF_Data\\Dropbox\\\\PhD Prep\\\\SHS DQ\\\\DQ Flags in CDC.xlsx'\n",
    "    ontology_path = r'D:\\\\UserData\\\\z003mxpm\\\\gitdir\\\\GITREPO\\\\TF_Data\\Dropbox\\\\PhD Prep\\\\Protege-5.5.0 for OSX\\\\Ontologies\\\\Ontologies for Protege\\\\DQ_Metrics_Ontology.owl'\n",
    "else:\n",
    "    path_to_dq_excel = r'../../../../../../PhD Prep/SHS DQ/DQ Flags in CDC.xlsx'\n",
    "    ontology_path = r'../../../../../../PhD Prep/Protege-5.5.0 for OSX/Ontologies/Ontologies for Protege/DQ_Metrics_Ontology.owl'"
   ]
  },
  {
   "cell_type": "code",
   "execution_count": 3,
   "metadata": {},
   "outputs": [],
   "source": [
    "g = Graph()\n",
    "g.parse (ontology_path,format='ttl')\n",
    "gN = Namespace('http://www.semanticweb.org/janlucasdeinhard/ontologies/2023/2/untitled-ontology-9/')\n",
    "\n",
    "df = pd.read_excel(\n",
    "    io=path_to_dq_excel,\n",
    "    sheet_name='DQ Checks'\n",
    ")"
   ]
  },
  {
   "cell_type": "code",
   "execution_count": 4,
   "metadata": {},
   "outputs": [],
   "source": [
    "person_sets = [\n",
    "    'Data Owner',\n",
    "    'Data Steward',\n",
    "    'Data Quality Lead'\n",
    "]\n",
    "\n",
    "persons = [k for k in df[person_sets[0]].unique().tolist() if not k is np.nan]\n",
    "\n",
    "item = persons[0]"
   ]
  },
  {
   "cell_type": "code",
   "execution_count": 5,
   "metadata": {},
   "outputs": [
    {
     "data": {
      "text/plain": [
       "'Sandra Freudl'"
      ]
     },
     "execution_count": 5,
     "metadata": {},
     "output_type": "execute_result"
    }
   ],
   "source": [
    "item"
   ]
  },
  {
   "cell_type": "code",
   "execution_count": 53,
   "metadata": {},
   "outputs": [
    {
     "data": {
      "text/plain": [
       "rdflib.term.URIRef('http://www.semanticweb.org/janlucasdeinhard/ontologies/2023/2/untitled-ontology-9/PERSON')"
      ]
     },
     "execution_count": 53,
     "metadata": {},
     "output_type": "execute_result"
    }
   ],
   "source": [
    "gN.PERSON"
   ]
  },
  {
   "cell_type": "code",
   "execution_count": 31,
   "metadata": {},
   "outputs": [
    {
     "data": {
      "text/plain": [
       "rdflib.term.URIRef('http://www.w3.org/1999/02/22-rdf-syntax-ns#type')"
      ]
     },
     "execution_count": 31,
     "metadata": {},
     "output_type": "execute_result"
    }
   ],
   "source": [
    "RDF.type"
   ]
  },
  {
   "cell_type": "code",
   "execution_count": 54,
   "metadata": {},
   "outputs": [
    {
     "data": {
      "text/plain": [
       "'http://www.semanticweb.org/janlucasdeinhard/ontologies/2023/2/untitled-ontology-9/'"
      ]
     },
     "execution_count": 54,
     "metadata": {},
     "output_type": "execute_result"
    }
   ],
   "source": [
    "'http://www.semanticweb.org/janlucasdeinhard/ontologies/2023/2/untitled-ontology-9/'+item.upper()"
   ]
  },
  {
   "cell_type": "code",
   "execution_count": null,
   "metadata": {},
   "outputs": [],
   "source": []
  }
 ],
 "metadata": {
  "kernelspec": {
   "display_name": "base",
   "language": "python",
   "name": "python3"
  },
  "language_info": {
   "codemirror_mode": {
    "name": "ipython",
    "version": 3
   },
   "file_extension": ".py",
   "mimetype": "text/x-python",
   "name": "python",
   "nbconvert_exporter": "python",
   "pygments_lexer": "ipython3",
   "version": "3.10.6"
  },
  "orig_nbformat": 4,
  "vscode": {
   "interpreter": {
    "hash": "6a0cb29973cce763dbaa7c280e329bb9663b4fa89db7af9a92f045ee092c32c5"
   }
  }
 },
 "nbformat": 4,
 "nbformat_minor": 2
}
